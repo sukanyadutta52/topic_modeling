{
 "cells": [
  {
   "cell_type": "markdown",
   "id": "967b547a",
   "metadata": {},
   "source": [
    "Sukanya Dutta    Matriculation number: 2696399     Summer Semester 2022/2023    Lexical Approaches to Text and Corpus Comparison  Pr. Dr.Evelyn Gius"
   ]
  },
  {
   "cell_type": "markdown",
   "id": "49113a4a",
   "metadata": {},
   "source": [
    "# What are the most pressing concerns regarding ‘Climate Change’ among tweeters according to Topic Modeling? \n",
    "It's not new to us to hear the term ‘Climate Change’. A topic like Climate Change forces us to talk about both its causes and its effects. Among us, Climate Change is getting more and more awareness. But I'm going to talk about exactly what aspects of Climate Change concern us the most with the help of a tweet data set and how much this matters today since climate change is a multidimensional subject. In this paper, I intend to demonstrate whether we commoners are neglecting the most pressing threats while we are focusing on other concerns. Climate Change affects our organization in almost every aspect of our lives, from organizational to economic to environmental. Which topic has been selected by the majority of tweeters compared to other topics among these aspects?"
   ]
  },
  {
   "cell_type": "markdown",
   "id": "d3660c85",
   "metadata": {},
   "source": [
    "# Source\n",
    "As part of this study, a corpus known as ‘Climate Change Tweets’ (Kaggle,2022) has been used. The file contains a list of top tweets containing the keyword ‘Climate Change’, comprising 9050 tweets and 11 columns with the titles UserScreenName, UserName, Timestamp, Text, Embedded_text, Emojis, Comments, Likes, Retweets, and Image links for the period 1/01/2022 through 19/07/2022."
   ]
  },
  {
   "cell_type": "markdown",
   "id": "c4c1557e",
   "metadata": {},
   "source": [
    "# A theoretical framework for topic modeling\n",
    "Based on the assumption that each topic is a mixture of over a set of underlying words, and that each document is a mixture of over a set of topic probabilities, the LDA is a generative probabilistic model.\n",
    "In the field of machine learning (ML) or statistics, dimensionality reduction is a method that relates to reducing the number of random variables in a problem by obtaining a set of principal variables that can be used to solve the problem.\n",
    "As in clustering, the number of topics is a parameter that is used as an output parameter in unsupervised learning, since the number of topics, just like the number of clusters, is a parameter in clustering. Instead of clustering texts, topic modeling builds clusters of words. A text then consists of all of these topics, with each topic weighing in differently.\n",
    "A collection of documents can be tagged with abstract \"topics\" that best represent the information they contain.\n",
    "The Latent Dirichlet Allocation (LDA) algorithm is a popular topic modeling algorithm for extracting hidden topics from large volumes of text. In LDA, each topic is assumed to be a mixture of words, and each document is assumed to be a mixture of topics.\n",
    "Parameters of LDA:\n",
    "An alpha parameter represents a document's topic density. The higher the alpha will be, the more topics there will be in the document, and the more specific the topic distribution will be.\n",
    "In the same way, the beta parameter measures the number of words required to make up a topic. With high beta, topics are assumed to contain the majority of the words, resulting in a more specific distribution of words per topic.\n",
    "It is, however, difficult to find a topic that is clear, segregated and meaningful, as this depends heavily on the quality of text preprocessing as well as finding the optimal number of topics (machine learning). \n",
    "https://towardsdatascience.com/end-to-end-topic-modeling-in-python-latent-dirichlet-allocation-lda-35ce4ed6b3e0"
   ]
  },
  {
   "cell_type": "markdown",
   "id": "fb3919a0",
   "metadata": {},
   "source": [
    "As prerequisies few libraries such as nltk, re, numpy, pandas, pprint, gensim, spacy, pyLDAvis,matplotlib, logging, warnings and their few packages are meant to be imported. As code progresses I am going to explain their importance as well."
   ]
  },
  {
   "cell_type": "code",
   "execution_count": 21,
   "id": "aafd2393",
   "metadata": {},
   "outputs": [],
   "source": [
    "# Run in python console\n",
    "# nltk\n",
    "import nltk\n",
    "from nltk.corpus import stopwords\n",
    "\n",
    "import re\n",
    "import numpy as np\n",
    "import pandas as pd\n",
    "from pprint import pprint\n",
    "\n",
    "# Gensim\n",
    "import gensim\n",
    "import gensim.corpora as corpora\n",
    "from gensim.utils import simple_preprocess\n",
    "from gensim.models import CoherenceModel\n",
    "\n",
    "#spacy \n",
    "import spacy\n",
    "\n",
    "# Plotting tools\n",
    "import pyLDAvis\n",
    "pyLDAvis.enable_notebook()\n",
    "#import pyLDAvis.gensim  # don't skip this\n",
    "import pyLDAvis.gensim as gensimvis\n",
    "import matplotlib.pyplot as plt\n",
    "%matplotlib inline\n",
    "\n",
    "# Enable logging for gensim - optional\n",
    "import logging\n",
    "logging.basicConfig(format='%(asctime)s : %(levelname)s : %(message)s', level=logging.ERROR)\n",
    "\n",
    "import warnings\n",
    "#warnings.filterwarnings(\"ignore\",category=DeprecationWarning)"
   ]
  },
  {
   "cell_type": "markdown",
   "id": "6f7f5f5e",
   "metadata": {},
   "source": [
    "The Clean and Removing Noise feature helps to find and eliminate unhelpful parts of the data as well as removing punctuation marks, stop words, and typing errors that are present in the data. The feature converts all characters to lowercase, removes punctuation marks, and removes stop words. While it might be overlooked, the simplest and most effective method of preprocessing text is by lowercasing all of text data. Generally, it is applicable to most text mining and natural language processing problems. It also contributes significantly to maintaining consistency in the outputs. There are a number of stop words in English, including \"a\", \"the\", \"is\", \"are\" and so on. By eliminating low-information words from the text, stop word removal enables us to focus on the key words(https://www.kdnuggets.com/2019/04/text-preprocessing-nlp-machine-learning.html). In the down cell stopwords have been removed with the help NLTK library."
   ]
  },
  {
   "cell_type": "code",
   "execution_count": 22,
   "id": "2820fef2",
   "metadata": {},
   "outputs": [],
   "source": [
    "# NLTK Stop words\n",
    "stop_words = stopwords.words('english')\n",
    "stop_words.extend(['from', 'subject', 're', 'edu', 'use'])"
   ]
  },
  {
   "cell_type": "markdown",
   "id": "4d53fff5",
   "metadata": {},
   "source": [
    "I accessed my dataset using Pandas, a Python library that can read and write files like csv and excel. The df.head() function returns the first 5 rows of the dataframe by default.\n",
    "The site from where I downloaded the dataset, despite its description of what the dataset is about, there is no mention of the amount of tweets that are included in it. In order to determine the number of tweets residing within my selected dataset, I used the .shape function and it showed the number of rows and columns. As a result, there are 9050 tweets in my dataset."
   ]
  },
  {
   "cell_type": "code",
   "execution_count": 23,
   "id": "a9fd3aa7",
   "metadata": {},
   "outputs": [
    {
     "data": {
      "text/html": [
       "<div>\n",
       "<style scoped>\n",
       "    .dataframe tbody tr th:only-of-type {\n",
       "        vertical-align: middle;\n",
       "    }\n",
       "\n",
       "    .dataframe tbody tr th {\n",
       "        vertical-align: top;\n",
       "    }\n",
       "\n",
       "    .dataframe thead th {\n",
       "        text-align: right;\n",
       "    }\n",
       "</style>\n",
       "<table border=\"1\" class=\"dataframe\">\n",
       "  <thead>\n",
       "    <tr style=\"text-align: right;\">\n",
       "      <th></th>\n",
       "      <th>UserScreenName</th>\n",
       "      <th>UserName</th>\n",
       "      <th>Timestamp</th>\n",
       "      <th>Text</th>\n",
       "      <th>Embedded_text</th>\n",
       "      <th>Emojis</th>\n",
       "      <th>Comments</th>\n",
       "      <th>Likes</th>\n",
       "      <th>Retweets</th>\n",
       "      <th>Image link</th>\n",
       "      <th>Tweet URL</th>\n",
       "    </tr>\n",
       "  </thead>\n",
       "  <tbody>\n",
       "    <tr>\n",
       "      <th>0</th>\n",
       "      <td>Lauren Boebert</td>\n",
       "      <td>@laurenboebert</td>\n",
       "      <td>2022-01-17T23:32:38.000Z</td>\n",
       "      <td>Lauren Boebert\\n@laurenboebert\\n·\\nJan 18</td>\n",
       "      <td>The only solution I’ve ever heard the Left pro...</td>\n",
       "      <td>NaN</td>\n",
       "      <td>1,683</td>\n",
       "      <td>2,259</td>\n",
       "      <td>11.7K</td>\n",
       "      <td>[]</td>\n",
       "      <td>https://twitter.com/laurenboebert/status/14832...</td>\n",
       "    </tr>\n",
       "    <tr>\n",
       "      <th>1</th>\n",
       "      <td>Catherine</td>\n",
       "      <td>@catherine___c</td>\n",
       "      <td>2022-01-17T22:54:02.000Z</td>\n",
       "      <td>Catherine\\n@catherine___c\\n·\\nJan 17</td>\n",
       "      <td>Climate change doesn’t cause volcanic eruption...</td>\n",
       "      <td>NaN</td>\n",
       "      <td>158</td>\n",
       "      <td>64</td>\n",
       "      <td>762</td>\n",
       "      <td>[]</td>\n",
       "      <td>https://twitter.com/catherine___c/status/14832...</td>\n",
       "    </tr>\n",
       "    <tr>\n",
       "      <th>2</th>\n",
       "      <td>king Keith</td>\n",
       "      <td>@KaConfessor</td>\n",
       "      <td>2022-01-17T23:51:41.000Z</td>\n",
       "      <td>king Keith\\n@KaConfessor\\n·\\nJan 18</td>\n",
       "      <td>Vaccinated tennis ball boy collapses in the te...</td>\n",
       "      <td>NaN</td>\n",
       "      <td>24</td>\n",
       "      <td>118</td>\n",
       "      <td>159</td>\n",
       "      <td>['https://pbs.twimg.com/ext_tw_video_thumb/148...</td>\n",
       "      <td>https://twitter.com/KaConfessor/status/1483225...</td>\n",
       "    </tr>\n",
       "    <tr>\n",
       "      <th>3</th>\n",
       "      <td>PETRIFIED CLIMATE PARENT</td>\n",
       "      <td>@climate_parent</td>\n",
       "      <td>2022-01-17T21:42:04.000Z</td>\n",
       "      <td>PETRIFIED CLIMATE PARENT\\n@climate_parent\\n·\\n...</td>\n",
       "      <td>North America has experienced an average winte...</td>\n",
       "      <td>NaN</td>\n",
       "      <td>15</td>\n",
       "      <td>50</td>\n",
       "      <td>158</td>\n",
       "      <td>[]</td>\n",
       "      <td>https://twitter.com/climate_parent/status/1483...</td>\n",
       "    </tr>\n",
       "    <tr>\n",
       "      <th>4</th>\n",
       "      <td>Thomas Speight</td>\n",
       "      <td>@Thomas_Sp8</td>\n",
       "      <td>2022-01-17T21:10:40.000Z</td>\n",
       "      <td>Thomas Speight\\n@Thomas_Sp8\\n·\\nJan 17</td>\n",
       "      <td>They're gonna do the same with Climate Change ...</td>\n",
       "      <td>🅾</td>\n",
       "      <td>4</td>\n",
       "      <td>24</td>\n",
       "      <td>127</td>\n",
       "      <td>['https://pbs.twimg.com/profile_images/1544171...</td>\n",
       "      <td>https://twitter.com/Thomas_Sp8/status/14831850...</td>\n",
       "    </tr>\n",
       "  </tbody>\n",
       "</table>\n",
       "</div>"
      ],
      "text/plain": [
       "             UserScreenName         UserName                 Timestamp  \\\n",
       "0            Lauren Boebert   @laurenboebert  2022-01-17T23:32:38.000Z   \n",
       "1                 Catherine   @catherine___c  2022-01-17T22:54:02.000Z   \n",
       "2                king Keith     @KaConfessor  2022-01-17T23:51:41.000Z   \n",
       "3  PETRIFIED CLIMATE PARENT  @climate_parent  2022-01-17T21:42:04.000Z   \n",
       "4            Thomas Speight      @Thomas_Sp8  2022-01-17T21:10:40.000Z   \n",
       "\n",
       "                                                Text  \\\n",
       "0          Lauren Boebert\\n@laurenboebert\\n·\\nJan 18   \n",
       "1               Catherine\\n@catherine___c\\n·\\nJan 17   \n",
       "2                king Keith\\n@KaConfessor\\n·\\nJan 18   \n",
       "3  PETRIFIED CLIMATE PARENT\\n@climate_parent\\n·\\n...   \n",
       "4             Thomas Speight\\n@Thomas_Sp8\\n·\\nJan 17   \n",
       "\n",
       "                                       Embedded_text Emojis Comments  Likes  \\\n",
       "0  The only solution I’ve ever heard the Left pro...    NaN    1,683  2,259   \n",
       "1  Climate change doesn’t cause volcanic eruption...    NaN      158     64   \n",
       "2  Vaccinated tennis ball boy collapses in the te...    NaN       24    118   \n",
       "3  North America has experienced an average winte...    NaN       15     50   \n",
       "4  They're gonna do the same with Climate Change ...      🅾        4     24   \n",
       "\n",
       "  Retweets                                         Image link  \\\n",
       "0    11.7K                                                 []   \n",
       "1      762                                                 []   \n",
       "2      159  ['https://pbs.twimg.com/ext_tw_video_thumb/148...   \n",
       "3      158                                                 []   \n",
       "4      127  ['https://pbs.twimg.com/profile_images/1544171...   \n",
       "\n",
       "                                           Tweet URL  \n",
       "0  https://twitter.com/laurenboebert/status/14832...  \n",
       "1  https://twitter.com/catherine___c/status/14832...  \n",
       "2  https://twitter.com/KaConfessor/status/1483225...  \n",
       "3  https://twitter.com/climate_parent/status/1483...  \n",
       "4  https://twitter.com/Thomas_Sp8/status/14831850...  "
      ]
     },
     "execution_count": 23,
     "metadata": {},
     "output_type": "execute_result"
    }
   ],
   "source": [
    "# Import Dataset\n",
    "df = pd.read_csv(r'C:\\\\Users\\\\sukan\\\\climate_change.csv')\n",
    "#print(df.UserName.unique())\n",
    "df.head()"
   ]
  },
  {
   "cell_type": "code",
   "execution_count": 24,
   "id": "fb2d3640",
   "metadata": {},
   "outputs": [
    {
     "data": {
      "text/plain": [
       "(9050, 11)"
      ]
     },
     "execution_count": 24,
     "metadata": {},
     "output_type": "execute_result"
    }
   ],
   "source": [
    "df.shape"
   ]
  },
  {
   "cell_type": "markdown",
   "id": "92206250",
   "metadata": {},
   "source": [
    "As a result, in the process of managing topic models all I need is a list of texts that come under Embedded_text that can be used as a starting point. After that special characters that are heavily used in social media domain like '*', '@', '?', single quotes have been replaced with '' or nothing followed by replacing new line character with ' ' or single space. Then I pprint out the only first tweet from the list.pprint is a Python library that allows you to customize the output formatting based on parameters to the constructor.There is still a lot of messy text in the text after I omit the emails and extra spaces. The text is not ready to be consumed by the LDA yet. I need to tokenize each sentence into a list of words, while eliminating all the messy text in the process."
   ]
  },
  {
   "cell_type": "code",
   "execution_count": 25,
   "id": "2de30dca",
   "metadata": {
    "scrolled": true
   },
   "outputs": [
    {
     "name": "stderr",
     "output_type": "stream",
     "text": [
      "<>:4: DeprecationWarning: invalid escape sequence \\S\n",
      "<>:7: DeprecationWarning: invalid escape sequence \\s\n",
      "<>:4: DeprecationWarning: invalid escape sequence \\S\n",
      "<>:7: DeprecationWarning: invalid escape sequence \\s\n",
      "C:\\Users\\sukan\\AppData\\Local\\Temp\\ipykernel_7600\\3497167745.py:4: DeprecationWarning: invalid escape sequence \\S\n",
      "  data = [re.sub('\\S*@\\S*\\s?', '', sent) for sent in data]\n",
      "C:\\Users\\sukan\\AppData\\Local\\Temp\\ipykernel_7600\\3497167745.py:7: DeprecationWarning: invalid escape sequence \\s\n",
      "  data = [re.sub('\\s+', ' ', sent) for sent in data]\n"
     ]
    },
    {
     "name": "stdout",
     "output_type": "stream",
     "text": [
      "['The only solution I’ve ever heard the Left propose for climate change is '\n",
      " 'more taxes, more control and less freedom. They have one playbook and it '\n",
      " 'fails every single time. 1,683 2,259 11.7K']\n"
     ]
    }
   ],
   "source": [
    "# Convert to list\n",
    "data = df.Embedded_text.values.tolist()\n",
    "# Remove Emails\n",
    "data = [re.sub('\\S*@\\S*\\s?', '', sent) for sent in data]\n",
    "\n",
    "# Remove new line characters\n",
    "data = [re.sub('\\s+', ' ', sent) for sent in data]\n",
    "\n",
    "# Remove distracting single quotes\n",
    "data = [re.sub(\"\\'\", \"\", sent) for sent in data]\n",
    "\n",
    "\n",
    "pprint(data[:1])"
   ]
  },
  {
   "cell_type": "markdown",
   "id": "b5ef7e48",
   "metadata": {},
   "source": [
    "Following this, tokenization takes place. By doing so, a string (text document) is immediately turned into a numerical data structure that can be used for machine learning. A computer can also use these features as features as part of a machine learning pipeline in order to trigger more complex decisions or behaviors. Additionally, computers can use them directly to trigger useful actions and responses. Tokenization is an important step in contextual embedding models, including transformer-based models (Vaswani et al., 2017) and BERT models (Devlin et al., 2018) in order to solve problems such as out-of-vocabulary issues. To remove punctuation from the text, I have set deacc=True in Gensim's simple_preprocess()."
   ]
  },
  {
   "cell_type": "code",
   "execution_count": 26,
   "id": "66b9fdac",
   "metadata": {},
   "outputs": [
    {
     "name": "stdout",
     "output_type": "stream",
     "text": [
      "[['the', 'only', 'solution', 've', 'ever', 'heard', 'the', 'left', 'propose', 'for', 'climate', 'change', 'is', 'more', 'taxes', 'more', 'control', 'and', 'less', 'freedom', 'they', 'have', 'one', 'playbook', 'and', 'it', 'fails', 'every', 'single', 'time']]\n"
     ]
    }
   ],
   "source": [
    "def sent_to_words(sentences):\n",
    "    for sentence in sentences:\n",
    "        yield(gensim.utils.simple_preprocess(str(sentence), deacc=True))  # deacc=True removes punctuations\n",
    "\n",
    "data_words = list(sent_to_words(data))\n",
    "\n",
    "print(data_words[:1])"
   ]
  },
  {
   "cell_type": "markdown",
   "id": "510fb514",
   "metadata": {},
   "source": [
    "As a next step, we'll look at some word associations. N-gram analyses are often used to identify which words often occur together. Creating a bigram or a trigram model is quite important in order to be able to create a dictionary later on which is going to be used in conjunction with the corpus. During a text analysis, it is common to filter out some stop words, which are common words but do not have significant contextual significance in a sentence. For example, \"a\", “and”, “but”, and so on)."
   ]
  },
  {
   "cell_type": "code",
   "execution_count": 27,
   "id": "9efc42d3",
   "metadata": {},
   "outputs": [
    {
     "name": "stdout",
     "output_type": "stream",
     "text": [
      "['the', 'only', 'solution', 've', 'ever', 'heard', 'the', 'left', 'propose', 'for', 'climate', 'change', 'is', 'more', 'taxes', 'more', 'control', 'and', 'less', 'freedom', 'they', 'have', 'one', 'playbook', 'and', 'it', 'fails', 'every', 'single', 'time']\n"
     ]
    }
   ],
   "source": [
    "# Build the bigram and trigram models\n",
    "bigram = gensim.models.Phrases(data_words, min_count=5, threshold=100) # higher threshold fewer phrases.\n",
    "trigram = gensim.models.Phrases(bigram[data_words], threshold=100)  \n",
    "\n",
    "# Faster way to get a sentence clubbed as a trigram/bigram\n",
    "bigram_mod = gensim.models.phrases.Phraser(bigram)\n",
    "trigram_mod = gensim.models.phrases.Phraser(trigram)\n",
    "\n",
    "# See trigram example\n",
    "print(trigram_mod[bigram_mod[data_words[0]]])"
   ]
  },
  {
   "cell_type": "markdown",
   "id": "96452221",
   "metadata": {},
   "source": [
    "The following four functions has been defined with a for loop function in each of them to fulfill the basic criteria of removing stopwords, forming bigrams and trigrams, and then lemmatizing the result."
   ]
  },
  {
   "cell_type": "code",
   "execution_count": 28,
   "id": "d988d544",
   "metadata": {},
   "outputs": [],
   "source": [
    "# Define functions for stopwords, bigrams, trigrams and lemmatization\n",
    "def remove_stopwords(texts):\n",
    "    return [[word for word in simple_preprocess(str(doc)) if word not in stop_words] for doc in texts]\n",
    "\n",
    "def make_bigrams(texts):\n",
    "    return [bigram_mod[doc] for doc in texts]\n",
    "\n",
    "def make_trigrams(texts):\n",
    "    return [trigram_mod[bigram_mod[doc]] for doc in texts]\n",
    "\n",
    "def lemmatization(texts, allowed_postags=['NOUN', 'ADJ', 'VERB', 'ADV']):\n",
    "    \"\"\"https://spacy.io/api/annotation\"\"\"\n",
    "    texts_out = []\n",
    "    for sent in texts:\n",
    "        doc = nlp(\" \".join(sent)) \n",
    "        texts_out.append([token.lemma_ for token in doc if token.pos_ in allowed_postags])\n",
    "    return texts_out"
   ]
  },
  {
   "cell_type": "code",
   "execution_count": 29,
   "id": "341a2028",
   "metadata": {},
   "outputs": [
    {
     "name": "stdout",
     "output_type": "stream",
     "text": [
      "[['solution', 'ever', 'hear', 'leave', 'propose', 'climate', 'change', 'taxis', 'control', 'less', 'freedom', 'playbook', 'fail', 'single', 'time']]\n"
     ]
    }
   ],
   "source": [
    "# Remove Stop Words\n",
    "data_words_nostops = remove_stopwords(data_words)\n",
    "\n",
    "# Form Bigrams\n",
    "data_words_bigrams = make_bigrams(data_words_nostops)\n",
    "\n",
    "# Initialize spacy 'en' model, keeping only tagger component (for efficiency)\n",
    "# python3 -m spacy download en\n",
    "nlp = spacy.load('en_core_web_sm', disable=['parser', 'ner'])\n",
    "\n",
    "# Do lemmatization keeping only noun, adj, vb, adv\n",
    "data_lemmatized = lemmatization(data_words_bigrams, allowed_postags=['NOUN', 'ADJ', 'VERB', 'ADV'])\n",
    "\n",
    "print(data_lemmatized[:1])"
   ]
  },
  {
   "cell_type": "markdown",
   "id": "568b8626",
   "metadata": {},
   "source": [
    "The dictionary (id2word) and corpus are the two main inputs to the LDA topic model. Using it, you can determine the vocabulary size, as well as debug and print out topics. We will create both of these inputs. Gensim assigns a unique identifier to each word in the document. The corpus shown above is a mapping of (word_id, word_frequency). A word id of zero occurs only once in the first document, as indicated by (0, 1) above. Similarly, word id 1 occurs once and so on. This is used by the LDA model, and the id is passed to the dictionary as a key to determine what word it corresponds to."
   ]
  },
  {
   "cell_type": "code",
   "execution_count": 30,
   "id": "593f7cd2",
   "metadata": {},
   "outputs": [
    {
     "name": "stdout",
     "output_type": "stream",
     "text": [
      "[[(0, 1), (1, 1), (2, 1), (3, 1), (4, 1), (5, 1), (6, 1), (7, 1), (8, 1), (9, 1), (10, 1), (11, 1), (12, 1), (13, 1), (14, 1)]]\n"
     ]
    }
   ],
   "source": [
    "# Create Dictionary\n",
    "id2word = corpora.Dictionary(data_lemmatized)\n",
    "\n",
    "# Create Corpus\n",
    "texts = data_lemmatized\n",
    "\n",
    "# Term Document Frequency\n",
    "corpus = [id2word.doc2bow(text) for text in texts]\n",
    "\n",
    "# View\n",
    "print(corpus[:1])"
   ]
  },
  {
   "cell_type": "markdown",
   "id": "16f7baaa",
   "metadata": {},
   "source": [
    "Word_id 0 represents to ‘change’ that occurred only once within the corpus."
   ]
  },
  {
   "cell_type": "code",
   "execution_count": 31,
   "id": "f39048d4",
   "metadata": {},
   "outputs": [
    {
     "data": {
      "text/plain": [
       "'change'"
      ]
     },
     "execution_count": 31,
     "metadata": {},
     "output_type": "execute_result"
    }
   ],
   "source": [
    "id2word[0]"
   ]
  },
  {
   "cell_type": "markdown",
   "id": "d92fbae5",
   "metadata": {},
   "source": [
    "In the code we see down there, it is basically representing the combination of word_id, word_frequency, but the only thing that is different is that the numbers are written as words in order to make it more human readable."
   ]
  },
  {
   "cell_type": "code",
   "execution_count": 32,
   "id": "d87799df",
   "metadata": {},
   "outputs": [
    {
     "data": {
      "text/plain": [
       "[[('change', 1),\n",
       "  ('climate', 1),\n",
       "  ('control', 1),\n",
       "  ('ever', 1),\n",
       "  ('fail', 1),\n",
       "  ('freedom', 1),\n",
       "  ('hear', 1),\n",
       "  ('leave', 1),\n",
       "  ('less', 1),\n",
       "  ('playbook', 1),\n",
       "  ('propose', 1),\n",
       "  ('single', 1),\n",
       "  ('solution', 1),\n",
       "  ('taxis', 1),\n",
       "  ('time', 1)]]"
      ]
     },
     "execution_count": 32,
     "metadata": {},
     "output_type": "execute_result"
    }
   ],
   "source": [
    "# Human readable format of corpus (term-frequency)\n",
    "[[(id2word[id], freq) for id, freq in cp] for cp in corpus[:1]]"
   ]
  },
  {
   "cell_type": "markdown",
   "id": "ef6f7122",
   "metadata": {},
   "source": [
    "I have everything in place to train the LDA model, but I would like to provide a number of topics as well as the corpus and dictionary required for training the model. ‘chunksize’ tells how many documents will be used in each training chunk, ‘update_every’ tells how frequently the model parameters will be updated during training, and ‘passes’ tells how many training cycles will be run. Here I chose 20 topics to work with, I assign 1 for ‘update_every’ and 10 for ‘passes’."
   ]
  },
  {
   "cell_type": "code",
   "execution_count": 33,
   "id": "2fc0e0c4",
   "metadata": {},
   "outputs": [],
   "source": [
    "# Build LDA model\n",
    "lda_model = gensim.models.ldamodel.LdaModel(corpus=corpus,\n",
    "                                           id2word=id2word,\n",
    "                                           num_topics=20, \n",
    "                                           random_state=100,\n",
    "                                           update_every=1,\n",
    "                                           chunksize=100,\n",
    "                                           passes=10,\n",
    "                                           alpha='auto',\n",
    "                                           per_word_topics=True)"
   ]
  },
  {
   "cell_type": "markdown",
   "id": "a6aabf03",
   "metadata": {},
   "source": [
    "One can see the keywords for each topic and the weight of each keyword as displayed in the LDA model above which is built with 20 different topics each combining a specific set of keywords that contribute a certain amount of weight to the topic. One can observe both the keywords for each topic as well as the weight(importance) of each keyword. Accordingly, the top 10 keywords in topic 0 are: 'take', 'earth', 'call'...and so on. The weight of 'earth' in topic 0 is 12%. Judging the keywords, from each topic this can be understood that effects of climate change have touched ecery sector of life. "
   ]
  },
  {
   "cell_type": "code",
   "execution_count": 34,
   "id": "b347d32c",
   "metadata": {
    "scrolled": true
   },
   "outputs": [
    {
     "name": "stdout",
     "output_type": "stream",
     "text": [
      "[(0,\n",
      "  '0.213*\"take\" + 0.121*\"earth\" + 0.108*\"call\" + 0.040*\"wake\" + 0.032*\"little\" '\n",
      "  '+ 0.032*\"destroy\" + 0.027*\"position\" + 0.016*\"side\" + 0.015*\"compare\" + '\n",
      "  '0.011*\"age\"'),\n",
      " (1,\n",
      "  '0.073*\"end\" + 0.069*\"thread\" + 0.063*\"science\" + 0.060*\"continue\" + '\n",
      "  '0.044*\"set\" + 0.039*\"challenge\" + 0.034*\"place\" + 0.033*\"political\" + '\n",
      "  '0.030*\"force\" + 0.030*\"democracy\"'),\n",
      " (2,\n",
      "  '0.091*\"record\" + 0.071*\"last\" + 0.061*\"global_warme\" + 0.050*\"join\" + '\n",
      "  '0.044*\"discuss\" + 0.043*\"event\" + 0.042*\"child\" + 0.032*\"poverty\" + '\n",
      "  '0.028*\"provide\" + 0.025*\"current\"'),\n",
      " (3,\n",
      "  '0.178*\"new\" + 0.096*\"cause\" + 0.053*\"biden\" + 0.036*\"create\" + 0.035*\"tax\" '\n",
      "  '+ 0.028*\"battle\" + 0.027*\"denier\" + 0.026*\"death\" + 0.023*\"mention\" + '\n",
      "  '0.023*\"building\"'),\n",
      " (4,\n",
      "  '0.076*\"major\" + 0.058*\"old\" + 0.051*\"never\" + 0.044*\"space\" + 0.041*\"close\" '\n",
      "  '+ 0.037*\"response\" + 0.036*\"analysis\" + 0.033*\"cnn\" + 0.033*\"river\" + '\n",
      "  '0.026*\"snow\"'),\n",
      " (5,\n",
      "  '0.142*\"want\" + 0.072*\"vote\" + 0.067*\"affect\" + 0.062*\"politician\" + '\n",
      "  '0.053*\"build\" + 0.052*\"remember\" + 0.049*\"group\" + 0.044*\"pm\" + '\n",
      "  '0.025*\"attend\" + 0.023*\"model\"'),\n",
      " (6,\n",
      "  '0.069*\"make\" + 0.042*\"high\" + 0.040*\"uk\" + 0.039*\"temperature\" + '\n",
      "  '0.033*\"work\" + 0.030*\"food\" + 0.030*\"health\" + 0.030*\"report\" + 0.028*\"hot\" '\n",
      "  '+ 0.024*\"state\"'),\n",
      " (7,\n",
      "  '0.109*\"policy\" + 0.065*\"happen\" + 0.061*\"drive\" + 0.049*\"money\" + '\n",
      "  '0.044*\"decade\" + 0.039*\"spend\" + 0.033*\"turn\" + 0.026*\"seem\" + '\n",
      "  '0.023*\"sustainable\" + 0.021*\"technology\"'),\n",
      " (8,\n",
      "  '0.115*\"city\" + 0.084*\"system\" + 0.060*\"canada\" + 0.058*\"concern\" + '\n",
      "  '0.057*\"social\" + 0.049*\"welcome\" + 0.035*\"press\" + 0.025*\"argue\" + '\n",
      "  '0.019*\"hand\" + 0.015*\"comment\"'),\n",
      " (9,\n",
      "  '0.060*\"human\" + 0.053*\"climatecrisis\" + 0.053*\"care\" + 0.044*\"medium\" + '\n",
      "  '0.044*\"write\" + 0.041*\"opinion\" + 0.034*\"hope\" + 0.034*\"inflation\" + '\n",
      "  '0.032*\"animal\" + 0.029*\"guy\"'),\n",
      " (10,\n",
      "  '0.187*\"climate\" + 0.164*\"change\" + 0.036*\"com\" + 0.019*\"https\" + '\n",
      "  '0.017*\"say\" + 0.015*\"world\" + 0.015*\"reply\" + 0.014*\"year\" + 0.012*\"need\" + '\n",
      "  '0.011*\"get\"'),\n",
      " (11,\n",
      "  '0.081*\"tell\" + 0.079*\"weather\" + 0.066*\"scientist\" + 0.065*\"also\" + '\n",
      "  '0.048*\"back\" + 0.034*\"be\" + 0.028*\"link\" + 0.028*\"enough\" + 0.026*\"role\" + '\n",
      "  '0.024*\"share\"'),\n",
      " (12,\n",
      "  '0.093*\"life\" + 0.093*\"stop\" + 0.092*\"emission\" + 0.068*\"australia\" + '\n",
      "  '0.040*\"push\" + 0.036*\"save\" + 0.027*\"climateaction\" + 0.027*\"experience\" + '\n",
      "  '0.026*\"adapt\" + 0.026*\"recent\"'),\n",
      " (13,\n",
      "  '0.081*\"know\" + 0.072*\"help\" + 0.067*\"energy\" + 0.057*\"big\" + 0.042*\"oil\" + '\n",
      "  '0.040*\"fire\" + 0.038*\"power\" + 0.035*\"gas\" + 0.034*\"watch\" + '\n",
      "  '0.029*\"protect\"'),\n",
      " (14,\n",
      "  '0.217*\"talk\" + 0.090*\"school\" + 0.059*\"professor\" + 0.044*\"responsible\" + '\n",
      "  '0.017*\"generate\" + 0.010*\"brilliant\" + 0.004*\"evening\" + 0.004*\"conclusion\" '\n",
      "  '+ 0.000*\"jul\" + 0.000*\"manchin\"'),\n",
      " (15,\n",
      "  '0.240*\"climatechange\" + 0.038*\"next\" + 0.033*\"move\" + 0.033*\"die\" + '\n",
      "  '0.029*\"large\" + 0.027*\"month\" + 0.024*\"free\" + 0.023*\"wrong\" + '\n",
      "  '0.021*\"least\" + 0.018*\"avoid\"'),\n",
      " (16,\n",
      "  '0.126*\"think\" + 0.088*\"bad\" + 0.082*\"live\" + 0.068*\"start\" + 0.053*\"really\" '\n",
      "  '+ 0.049*\"re\" + 0.045*\"region\" + 0.042*\"pacific\" + 0.028*\"intense\" + '\n",
      "  '0.028*\"common\"'),\n",
      " (17,\n",
      "  '0.131*\"use\" + 0.115*\"first\" + 0.107*\"act\" + 0.054*\"theguardian\" + '\n",
      "  '0.054*\"claim\" + 0.052*\"america\" + 0.040*\"denial\" + 0.025*\"law\" + '\n",
      "  '0.004*\"firm\" + 0.003*\"publicly\"'),\n",
      " (18,\n",
      "  '0.257*\"people\" + 0.104*\"europe\" + 0.083*\"right\" + 0.071*\"covid\" + '\n",
      "  '0.064*\"still\" + 0.043*\"question\" + 0.034*\"try\" + 0.033*\"bbc\" + '\n",
      "  '0.023*\"western\" + 0.023*\"release\"'),\n",
      " (19,\n",
      "  '0.157*\"water\" + 0.123*\"good\" + 0.083*\"party\" + 0.053*\"company\" + '\n",
      "  '0.041*\"area\" + 0.023*\"podcast\" + 0.023*\"episode\" + 0.021*\"second\" + '\n",
      "  '0.021*\"super\" + 0.016*\"texas\"')]\n"
     ]
    }
   ],
   "source": [
    "# Print the Keyword in the 10 topics\n",
    "pprint(lda_model.print_topics())\n",
    "doc_lda = lda_model[corpus]"
   ]
  },
  {
   "cell_type": "markdown",
   "id": "da329eac",
   "metadata": {},
   "source": [
    "Model perplexity and topic coherence provide a convenient measure to judge how good a given topic model is. In my experience, topic coherence score, in particular, has been more helpful. Perplexity measures how well a probability model predicts a sample. For a given value of , the LDA model is estimated. Afterwards, compare the theoretical word distributions represented by the topics with the actual topic mixtures, or word distributions in your documents. A topic's Topic Coherence can be calculated by measuring the degree of semantic similarity between high-scoring words within that topic. Statistically derived topics can be distinguished from those that can be interpreted semantically."
   ]
  },
  {
   "cell_type": "code",
   "execution_count": 35,
   "id": "6e3d8159",
   "metadata": {},
   "outputs": [
    {
     "name": "stdout",
     "output_type": "stream",
     "text": [
      "\n",
      "Perplexity:  -16.561250873049108\n"
     ]
    }
   ],
   "source": [
    "# Compute Perplexity\n",
    "print('\\nPerplexity: ', lda_model.log_perplexity(corpus))  # a measure of how good the model is. lower the better.\n",
    "\n"
   ]
  },
  {
   "cell_type": "code",
   "execution_count": 36,
   "id": "f5c760fb",
   "metadata": {},
   "outputs": [
    {
     "name": "stdout",
     "output_type": "stream",
     "text": [
      "\n",
      "Coherence Score:  0.3099597483887469\n"
     ]
    }
   ],
   "source": [
    "# Compute Coherence Score\n",
    "coherence_model_lda = CoherenceModel(model=lda_model, texts=data_lemmatized, dictionary=id2word, coherence='c_v')\n",
    "coherence_lda = coherence_model_lda.get_coherence()\n",
    "print('\\nCoherence Score: ', coherence_lda)"
   ]
  },
  {
   "cell_type": "markdown",
   "id": "c17e6a31",
   "metadata": {},
   "source": [
    "In pyLDAvis package’s interactive chart, an appropriate topic model will have a substantial number of large, non-overlapping bubbles distributed throughout the chart instead of being clustered in a single quadrant. A graph that depicts a model with many topics overlaid on each other typically see bubbles of small sizes clustered together in one area of the chart. If we move your mouse over one of the bubbles, we will see the words and bars on the right-hand side update to reflect the changes. The salient keywords that comprise the selected topic are those that form the core of the topic. Having beforehand known how many natural topics were contained in the document, identifying the best model was relatively straightforward."
   ]
  },
  {
   "cell_type": "markdown",
   "id": "5ead9657",
   "metadata": {},
   "source": [
    "# My thought\n",
    "In cluster 1, I receive a set of topics that make no sense to me; tokens such as 'see', 'com', 'reply', 'org', 'get', etc. alone cannot provide any useful information. The two main topics that are predominant here are 'climate' and 'change'. Nevertheless, when moving my cursor to cluster 2, several topics, including 'temperature,' 'work,' 'food,' 'health,' 'environment,' 'price,' 'cost,', and so on, seem to make sense to some extent, however, we are still unable to identify the broad aspect. Still, we can conclude from this cluster that services are dependent on the environment, or that environment has a significant bearing on those services. \n",
    "In spite of the fact that other clusters, except for clusters 1 and 2, overlap with each other, when I move to cluster 3, topics become more interesting and of greater significance. These topics include energy, oil, fire, fuel, destruction, and industry. An indication of political involvement can be found in Cluster 6, 17. Some of the environment relared terms like river, snow, valley, biodiversity, mine, paper, natural disaster appear in cluster 15.\n",
    "\n",
    "to conclude, industrial or organizational aspects revolving around Climate change gained more focus rather political, public, policy making aspect. Environmental aspect gained least favour from tweeters.\n"
   ]
  },
  {
   "cell_type": "code",
   "execution_count": 37,
   "id": "bc3ddc5f",
   "metadata": {},
   "outputs": [
    {
     "name": "stderr",
     "output_type": "stream",
     "text": [
      "C:\\Users\\sukan\\AppData\\Roaming\\Python\\Python39\\site-packages\\pyLDAvis\\_prepare.py:247: FutureWarning: In a future version of pandas all arguments of DataFrame.drop except for the argument 'labels' will be keyword-only.\n",
      "  default_term_info = default_term_info.sort_values(\n"
     ]
    },
    {
     "data": {
      "text/html": [
       "\n",
       "<link rel=\"stylesheet\" type=\"text/css\" href=\"https://cdn.jsdelivr.net/gh/bmabey/pyLDAvis/pyLDAvis/js/ldavis.v1.0.0.css\">\n",
       "\n",
       "\n",
       "<div id=\"ldavis_el760020290021073603509591309\"></div>\n",
       "<script type=\"text/javascript\">\n",
       "\n",
       "var ldavis_el760020290021073603509591309_data = {\"mdsDat\": {\"x\": [-0.4845889850373601, -0.18346957726221644, -0.046068784980068576, -0.00184532659296367, -0.007038581154337011, 0.012970649104965733, -0.0004474423936917545, 0.002094327256540925, 0.027386636822790546, 0.022892997001011516, 0.021055690143199732, 0.042219078904195996, 0.049800355767421936, 0.06650059350598697, 0.06057918100928353, 0.06732054359868984, 0.07163444271057527, 0.08406997082343415, 0.09237380519965312, 0.10256042557288819], \"y\": [-0.18950201901264474, 0.4082207394811228, 0.024515384759638915, -0.0005444797386012477, 0.0018252381565035435, -0.0067014776776367834, -0.001105479813005762, -0.002300972620858079, -0.0117931536860228, -0.010245397323761847, -0.009386697568829528, -0.01630760855126804, -0.01824309377618618, -0.022188891945413135, -0.020936803800288645, -0.02233588636637994, -0.02321038390246853, -0.025392070495673498, -0.026602844395770025, -0.027764101722456115], \"topics\": [1, 2, 3, 4, 5, 6, 7, 8, 9, 10, 11, 12, 13, 14, 15, 16, 17, 18, 19, 20], \"cluster\": [1, 1, 1, 1, 1, 1, 1, 1, 1, 1, 1, 1, 1, 1, 1, 1, 1, 1, 1, 1], \"Freq\": [52.15897830241239, 8.44440041538543, 4.470205022463826, 3.0550613099511166, 3.01817226065699, 2.9353453490266714, 2.895759043638938, 2.5998487350397124, 2.5751761902993833, 2.4473376715379707, 2.262304092185388, 2.2073503292353904, 1.9901753891644212, 1.611259041581697, 1.6062439840516438, 1.5530732304489372, 1.51800443328041, 1.142405566153011, 0.9576700842649253, 0.5512295492217449]}, \"tinfo\": {\"Term\": [\"climate\", \"change\", \"climatechange\", \"people\", \"new\", \"make\", \"take\", \"com\", \"know\", \"water\", \"policy\", \"cause\", \"help\", \"think\", \"life\", \"stop\", \"emission\", \"energy\", \"want\", \"europe\", \"high\", \"tell\", \"weather\", \"record\", \"good\", \"uk\", \"temperature\", \"earth\", \"big\", \"end\", \"climate\", \"change\", \"com\", \"https\", \"say\", \"world\", \"reply\", \"year\", \"need\", \"get\", \"go\", \"action\", \"time\", \"day\", \"org\", \"impact\", \"news\", \"fight\", \"global\", \"see\", \"crisis\", \"show\", \"quote_tweet\", \"do\", \"issue\", \"plan\", \"country\", \"government\", \"thing\", \"way\", \"make\", \"high\", \"uk\", \"temperature\", \"work\", \"food\", \"health\", \"report\", \"hot\", \"state\", \"environment\", \"summer\", \"even\", \"lead\", \"risk\", \"public\", \"reduce\", \"cost\", \"security\", \"increase\", \"price\", \"economy\", \"project\", \"china\", \"study\", \"hard\", \"ukraine\", \"disaster\", \"warm\", \"economic\", \"know\", \"help\", \"energy\", \"big\", \"oil\", \"fire\", \"power\", \"gas\", \"watch\", \"protect\", \"industry\", \"activist\", \"washingtonpost\", \"shift\", \"focus\", \"decision\", \"leadership\", \"movement\", \"fuel\", \"federal\", \"court\", \"clear\", \"natural\", \"alone\", \"head\", \"require\", \"stay\", \"source\", \"destructive\", \"seriously\", \"new\", \"cause\", \"biden\", \"create\", \"tax\", \"battle\", \"denier\", \"death\", \"mention\", \"building\", \"speak\", \"huge\", \"resilience\", \"atmosphere\", \"instead\", \"authority\", \"reveal\", \"team\", \"program\", \"pledge\", \"disease\", \"military\", \"road\", \"illegal\", \"bear\", \"coastal\", \"wonder\", \"mostly\", \"image\", \"restrict\", \"tell\", \"weather\", \"scientist\", \"also\", \"back\", \"be\", \"link\", \"enough\", \"role\", \"share\", \"waste\", \"accord\", \"thousand\", \"play\", \"sign\", \"here\", \"likely\", \"south\", \"southern\", \"half\", \"bit\", \"true\", \"plastic\", \"own\", \"condition\", \"island\", \"worsen\", \"influence\", \"weekend\", \"literally\", \"end\", \"thread\", \"science\", \"continue\", \"set\", \"challenge\", \"place\", \"political\", \"force\", \"democracy\", \"feel\", \"accept\", \"politic\", \"threaten\", \"raise\", \"launch\", \"border\", \"scientific\", \"slow\", \"d\", \"th\", \"corporation\", \"failure\", \"scam\", \"self\", \"carbon_dioxide\", \"body\", \"guess\", \"biden_administration\", \"technical\", \"life\", \"stop\", \"emission\", \"australia\", \"push\", \"save\", \"climateaction\", \"experience\", \"adapt\", \"recent\", \"cut\", \"adaptation\", \"line\", \"generation\", \"flooding\", \"extinction\", \"extreme_weather\", \"average\", \"trend\", \"deforestation\", \"fossil_fuel\", \"govt\", \"chance\", \"add\", \"like\", \"apnews\", \"consumption\", \"winter\", \"total\", \"deeply\", \"climatechange\", \"next\", \"move\", \"die\", \"large\", \"month\", \"free\", \"wrong\", \"least\", \"avoid\", \"chief\", \"education\", \"london\", \"http\", \"president\", \"former\", \"able\", \"deep\", \"simply\", \"lie\", \"begin\", \"piece\", \"tool\", \"jame\", \"billion\", \"interested\", \"update\", \"girl\", \"choice\", \"david\", \"policy\", \"happen\", \"drive\", \"money\", \"decade\", \"spend\", \"turn\", \"seem\", \"sustainable\", \"technology\", \"devastating\", \"kid\", \"truth\", \"housing\", \"meeting\", \"canadian\", \"service\", \"society\", \"healthcare\", \"attention\", \"inequality\", \"sure\", \"have\", \"product\", \"tran\", \"cheap\", \"period\", \"easy\", \"imagine\", \"ahead\", \"record\", \"last\", \"global_warme\", \"join\", \"discuss\", \"event\", \"child\", \"poverty\", \"provide\", \"current\", \"danger\", \"deny\", \"short\", \"feature\", \"prevent\", \"executive\", \"spread\", \"university\", \"african\", \"governor\", \"county\", \"historic\", \"new_york\", \"design\", \"budget\", \"existential_threat\", \"register\", \"disinformation\", \"highly\", \"situation\", \"people\", \"europe\", \"right\", \"covid\", \"still\", \"question\", \"try\", \"bbc\", \"western\", \"release\", \"brexit\", \"root\", \"corrupt\", \"wale\", \"crap\", \"contract\", \"wildfire\", \"heat\", \"heatwave\", \"spain\", \"evacuate\", \"france\", \"kill\", \"portugal\", \"young\", \"greece\", \"answer\", \"access\", \"jul\", \"amber\", \"dry\", \"war\", \"flood\", \"rise\", \"long\", \"emergency\", \"american\", \"human\", \"climatecrisis\", \"care\", \"medium\", \"write\", \"opinion\", \"hope\", \"inflation\", \"animal\", \"guy\", \"cover\", \"fix\", \"wildlife\", \"job\", \"open\", \"hate\", \"police\", \"collapse\", \"draw\", \"topic\", \"trade\", \"dead\", \"couple\", \"god\", \"option\", \"hell\", \"drug\", \"fuck\", \"essential\", \"individual\", \"think\", \"bad\", \"live\", \"start\", \"really\", \"re\", \"region\", \"pacific\", \"intense\", \"common\", \"fear\", \"season\", \"cold\", \"surge\", \"sea\", \"gon\", \"ago\", \"person\", \"dramatic\", \"japanese\", \"flood\", \"sammy\", \"corbyn\", \"wilson\", \"jeremy\", \"heatwave\", \"labour\", \"reason\", \"dup\", \"chuckle\", \"rain\", \"farmer\", \"wildfire\", \"jul\", \"rise\", \"mp\", \"heat\", \"ocean\", \"drought\", \"emergency\", \"long\", \"water\", \"good\", \"party\", \"company\", \"area\", \"podcast\", \"episode\", \"second\", \"super\", \"texas\", \"apple\", \"center\", \"moment\", \"concerned\", \"market\", \"indigenous\", \"fill\", \"sense\", \"http_ow\", \"mask\", \"smart\", \"wear\", \"facility\", \"jeff\", \"edge\", \"fein\", \"sinn\", \"email\", \"wilson\", \"sammy\", \"corbyn\", \"mp\", \"send\", \"air\", \"mark\", \"drought\", \"low\", \"flood\", \"heatwave\", \"heat\", \"jul\", \"combat\", \"major\", \"old\", \"never\", \"space\", \"close\", \"response\", \"analysis\", \"cnn\", \"river\", \"snow\", \"west\", \"whole\", \"listen\", \"director\", \"biodiversity\", \"night\", \"urgent\", \"paper\", \"worth\", \"perspective\", \"committee\", \"quality\", \"site\", \"natural_disaster\", \"mine\", \"valley\", \"cbc\", \"file\", \"evil\", \"closure\", \"take\", \"earth\", \"call\", \"wake\", \"little\", \"destroy\", \"position\", \"side\", \"compare\", \"age\", \"investor\", \"ceo\", \"manager\", \"rapid\", \"unfortunately\", \"metaphor\", \"breakdown\", \"dontlookup\", \"trump\", \"beachfront_property\", \"urge\", \"senator\", \"beeyali\", \"occur\", \"nominee\", \"espouse\", \"demonstration\", \"essex\", \"pennsylvania\", \"dozen\", \"general\", \"independent\", \"republican\", \"rise\", \"far\", \"spark\", \"burn\", \"target\", \"heat\", \"wildfire\", \"nature\", \"jul\", \"heatwave\", \"manchin\", \"flood\", \"want\", \"vote\", \"affect\", \"politician\", \"build\", \"remember\", \"group\", \"pm\", \"attend\", \"model\", \"ai\", \"cycle\", \"reading\", \"bold\", \"columbia\", \"class\", \"presentation\", \"parking\", \"almelo\", \"highway\", \"janice\", \"solar_panel\", \"missourian\", \"full\", \"joe_manchin\", \"block\", \"voter\", \"alaska\", \"climaterealism\", \"blunder\", \"park\", \"boost\", \"bill\", \"put\", \"farmer\", \"manchin\", \"jul\", \"france\", \"heat\", \"heatwave\", \"american\", \"rise\", \"flood\", \"wildfire\", \"use\", \"first\", \"act\", \"theguardian\", \"claim\", \"america\", \"denial\", \"law\", \"firm\", \"publicly\", \"mislead\", \"declare\", \"winery\", \"trump\", \"plimer\", \"ian\", \"gun\", \"england\", \"ideological\", \"killing\", \"kyle\", \"tennis\", \"antifa\", \"coney\", \"gastapo\", \"rittenhouse\", \"swalwell\", \"defund\", \"casualty\", \"amy\", \"npr\", \"chicken\", \"humanity\", \"bake\", \"red\", \"mary\", \"republican\", \"emergency\", \"assault\", \"beachfront_property\", \"blast\", \"reach\", \"extreme_heat\", \"kill\", \"heat\", \"house\", \"rise\", \"abortion\", \"long\", \"bill\", \"heatwave\", \"jul\", \"co\", \"combat\", \"wildfire\", \"war\", \"nature\", \"city\", \"system\", \"canada\", \"concern\", \"social\", \"welcome\", \"press\", \"argue\", \"hand\", \"comment\", \"gif_alt\", \"adam\", \"defense\", \"steve\", \"gas_station\", \"ban\", \"california\", \"winery\", \"defra\", \"eustice\", \"immune\", \"governance\", \"bat\", \"durban\", \"reboot\", \"algae\", \"arcticstartup\", \"urban\", \"train\", \"san\", \"combat\", \"plant\", \"boost\", \"production\", \"rich\", \"flood\", \"minister\", \"prepare\", \"heat\", \"story\", \"rise\", \"jul\", \"farmer\", \"heatwave\", \"kill\", \"talk\", \"school\", \"professor\", \"responsible\", \"generate\", \"brilliant\", \"evening\", \"conclusion\", \"anthropogenic\", \"princeton\", \"fertiliser\", \"kyocera\", \"white_colonization\", \"davos\", \"reliable\", \"emeritus\", \"prof\", \"canard\", \"thecollegefix\", \"katharinehayhoe\", \"rarely\", \"linkedin\", \"undark\", \"distinguished\", \"happer\", \"lindzen\", \"dance\", \"audition\", \"gate\", \"physics\", \"ballet\", \"lock\", \"conversation\", \"drop\", \"m\", \"co\", \"manchin\", \"basis\", \"met_office\", \"jul\", \"meet\", \"emergency\", \"heat\", \"heatwave\", \"man\", \"flood\"], \"Freq\": [23469.0, 20574.0, 1506.0, 1401.0, 1308.0, 1397.0, 798.0, 4515.0, 877.0, 609.0, 677.0, 706.0, 774.0, 606.0, 651.0, 648.0, 645.0, 719.0, 521.0, 569.0, 850.0, 592.0, 576.0, 538.0, 479.0, 806.0, 802.0, 453.0, 611.0, 513.0, 23468.687095636735, 20573.74031272159, 4514.601756852378, 2409.7972284335624, 2157.4997014305254, 1926.8256185469702, 1885.7677844786258, 1797.6831167705514, 1534.6525702803906, 1440.188901188751, 1415.1773873309714, 1364.0286672468894, 1276.452935045548, 1192.2315930269115, 1183.0065522528676, 1163.2786356215834, 1144.011357078769, 1043.3615254479123, 1040.0417503640108, 995.6297599987643, 974.22915057783, 947.2289057394662, 940.0912372833067, 939.7254983592929, 908.7077386160437, 877.8599553799261, 866.5987048073446, 852.0517095351584, 808.5022900103675, 764.1671311313165, 1396.1290092284132, 849.2962499679364, 805.1308490037954, 801.7039462571197, 670.8663276402916, 611.6464401430591, 605.6784978323828, 602.8109819973404, 577.234621906399, 494.6102253363359, 483.38924120179297, 480.83987122957757, 474.6312937179652, 462.2585927822147, 408.71125889345484, 398.03095611755356, 393.9971831324193, 380.4531889361561, 363.07334468084724, 362.8326337489273, 344.41610805676083, 329.91544220799534, 305.01785892460407, 302.7518932264102, 288.6809439123141, 273.61574144501867, 238.26989512000418, 231.95430972832168, 229.6120071984854, 223.54067316221418, 876.2626463756455, 773.2890228876774, 717.947110597303, 610.2783481189741, 448.2286221668196, 425.45036678787767, 408.893383046288, 377.178945107778, 365.64278864130694, 313.43708936380784, 219.57864870515715, 216.3021820654691, 205.75854501183537, 201.6559911250131, 198.33015408617698, 197.91460485972982, 190.92928470255285, 184.15986733434227, 178.22692043160075, 169.7058060227269, 168.40621996573617, 146.41575619951013, 140.608530426877, 127.29917884703197, 126.57500950264581, 120.60546075303284, 119.42188410938749, 108.39820361117461, 84.39256362783289, 81.66275439089246, 1306.8407189221907, 705.008419653486, 391.2095021229113, 266.9916535401305, 259.7876359911598, 205.82615098738563, 201.7622194108995, 194.35027563965738, 171.67808420219876, 165.51012227743144, 163.54583731018795, 143.89063097333815, 129.43040198246914, 113.25821330357759, 110.78163363294371, 106.24302531369158, 102.28854337173152, 98.22869415222502, 91.54865671101923, 88.84588980518163, 82.07966394472297, 76.86419946832932, 72.93291024572, 67.44764718028148, 56.291784782366044, 51.36442100550314, 48.19791615571913, 41.81840457438142, 37.07332899600671, 34.95988045838493, 590.954037822117, 574.8557802155245, 481.55553629379864, 472.5518977245546, 348.9589340861258, 249.60904061503302, 204.33458582436202, 203.2298782733857, 189.9907920905352, 172.9262503376584, 159.01161246644222, 156.16458083484036, 151.39284403133132, 149.32240721866123, 148.68362678474887, 143.55615482360116, 123.86036387600252, 120.72035318057867, 110.41806136218288, 107.12434086828534, 100.51085413915962, 97.07138170384341, 78.63415697717028, 77.98385930456092, 77.75180927553781, 69.99642419409695, 67.94812186308248, 55.03026310653375, 46.83605228345871, 40.564303409830195, 512.7124622066077, 486.9973041787783, 442.6561862208487, 426.1856428250189, 308.2637356041705, 274.7354756304974, 237.04540690495628, 233.808886212922, 214.76266507393368, 208.71130643436558, 177.43978689442775, 163.69960537614378, 160.18152849633887, 158.23902640708658, 124.93922563359743, 124.49818104756501, 95.25487692934463, 92.68782711760981, 92.40013068573671, 91.51204605560402, 76.383248004497, 74.73678728765576, 69.37511692375973, 63.051856692453406, 62.116683695168646, 53.86330387115745, 46.62662145366874, 42.98654588678048, 40.797229676870856, 40.28254822989303, 650.6620427744544, 646.7573920849452, 644.6409641043643, 475.6315581850922, 275.9971308665889, 249.2267165140063, 191.69752373959048, 188.87545961890035, 182.47632680716768, 180.2865603484142, 176.45927344306799, 132.01807742941682, 130.63498229113063, 129.04440210632865, 112.99640307798494, 104.14793649541103, 100.18586676367805, 99.339241035042, 94.50789998226269, 91.83211028731886, 84.77900808559177, 76.47720402622423, 70.19318847338673, 68.30910505002666, 51.45859634821538, 49.31657845866524, 42.479816976632726, 36.889144149561446, 36.866443371504545, 35.79815313138022, 1505.2304968735375, 235.35493168073344, 205.99135442727646, 204.02691684433034, 182.1575828174281, 167.9324950934088, 151.9326099545192, 142.20176222033047, 130.37746982752543, 115.57530102156595, 112.96888244792706, 109.39630976294104, 103.8894470006734, 101.4725286994924, 98.39522147589233, 95.43505934535858, 92.6360861116036, 90.84861648534225, 88.6028604727018, 83.23444191133072, 81.97493834714706, 74.99849543443361, 73.58580616861373, 63.241253845506854, 61.37701649890498, 60.681974266127185, 55.65478443283007, 52.224567197058654, 47.56882354530896, 47.302514749621984, 676.7007085059203, 403.3765567186055, 377.6809669151875, 303.59523417244384, 271.7721669853343, 241.2237176343598, 205.22028454486073, 160.92518425602478, 140.75947420031008, 131.60755370282328, 126.09158849274881, 110.60618617065941, 104.07389389430983, 100.0941744697942, 100.07590658719771, 97.85292929348738, 96.57312093066021, 94.1092142839572, 84.90608135959592, 84.56350659790819, 78.90967199196726, 69.577387909009, 63.51349592071418, 56.3255517860288, 56.30252062810295, 56.29796520478796, 54.41433519287551, 53.967124262952595, 52.14069397066196, 48.40500435835338, 536.7453126479387, 420.7332036668073, 360.79322847005017, 292.8153219489306, 256.96868501386547, 253.99988528621714, 245.97286221138629, 185.68520576547434, 164.00040680553897, 146.31337155799102, 126.74933823032845, 122.33428458993423, 113.64219849059327, 110.57761686967358, 106.94996545477355, 105.11016955364495, 88.4475495288332, 86.75612337988481, 74.42936793246935, 71.8476629129222, 70.73305709785664, 62.87838217080614, 57.44568432373303, 52.96070375575802, 52.73542206510482, 49.913055162028705, 49.134196268788365, 46.37375617869694, 42.60565556403061, 37.404530307051346, 1400.3686976729969, 567.9470835640265, 452.5339172539002, 387.3295778379441, 350.3767041564262, 232.80556319272648, 185.98437284398847, 180.44482798780342, 123.66594893129563, 123.24559600913229, 72.28596789144946, 42.130730599705295, 20.870907564858577, 17.512267478723363, 11.995803636756312, 2.9190828902613726, 0.06272965338621474, 0.06273794523296428, 0.06273355164391599, 0.06271002835824481, 0.0627015631455238, 0.06271070696219026, 0.06270673440478695, 0.06270030995721579, 0.062699101348729, 0.06269644141939536, 0.06269762030800133, 0.06269632253987208, 0.06271983096560284, 0.06269249858187288, 0.06269560430941885, 0.06270325222541723, 0.06271019677090281, 0.06270683347105636, 0.06270237548893297, 0.06270327203867111, 0.06270156809883728, 321.16420132715376, 282.7730118242122, 280.52825163756887, 235.55067701412966, 231.36043160448062, 220.1604847743985, 180.5139755685105, 180.06757720695305, 170.32627414064027, 151.96410809958763, 147.26399855688877, 129.58936517637943, 112.73214559389359, 111.25199354543105, 93.5356501273252, 87.16390244519505, 84.69477511753661, 82.29343897343266, 75.56116770102827, 68.66658954763011, 65.70081187434268, 64.10438839454498, 61.2984381612409, 58.17694070473391, 56.44997787257701, 49.83699691177994, 49.36833801995326, 41.87073605769645, 36.29689327845387, 32.67137396457133, 605.6555611430364, 422.28917998571393, 392.7056364699973, 324.3913109726044, 254.11351512125694, 234.85608831672246, 213.51178821822623, 201.4928344737906, 134.68541165507727, 131.92550686512797, 106.30279792238755, 88.48150540527888, 83.6394481888298, 63.40830008062768, 45.3746265346096, 29.25334828639949, 28.48613146868534, 27.118173111269957, 19.39365149563036, 0.06812820680365352, 0.06815103568242788, 0.06812924824324638, 0.06812927003068557, 0.06812927003068557, 0.06813014152825282, 0.06816268760490214, 0.0681282416635562, 0.06813032018525411, 0.06812656403073923, 0.06812656838822706, 0.0681310871031133, 0.06813580190495218, 0.06814557139268117, 0.06815009446505524, 0.06814093066813551, 0.06813320048471391, 0.06814717059071708, 0.06813368416586374, 0.06813350986635029, 0.06813519185665509, 0.0681337756731083, 608.5016243171495, 477.8522687924095, 321.22601067296654, 203.68351037274104, 160.28302338863176, 88.68503274771888, 88.43954762243095, 80.87589348419628, 79.78763654490665, 62.54032863920328, 59.365805774360595, 58.597610805378224, 53.42619212585893, 48.3821111333231, 45.67847291266665, 27.717081962101457, 26.16010247132779, 24.52313277561125, 20.344745030987585, 13.305850841056376, 12.74551570744295, 7.106659178556942, 4.708762450792412, 3.4027595659565, 0.06408620234302671, 0.064087422979375, 0.064087422979375, 0.06408577900094059, 0.06408719719692907, 0.06408714780701903, 0.0640871619184219, 0.0640918116256677, 0.06408861539291755, 0.06409071799194524, 0.06408970197093858, 0.06409232669187247, 0.06408905284640654, 0.06409631316318336, 0.06410022202177847, 0.06409779486048475, 0.06409628494037761, 0.06409181868136914, 294.0607673270625, 224.2023678909875, 195.85969872923823, 170.81307503003973, 157.62742385958026, 141.8630724238905, 138.42487742908622, 126.56293975861021, 126.52316727598436, 101.01918883678974, 94.42157355562624, 90.60875951584995, 84.9174987563582, 79.50458055229488, 79.5026574713711, 77.7718702348705, 67.29581127581287, 57.00151587552849, 47.406688942778786, 45.1168289500047, 41.700594530992944, 33.44050100014948, 33.10648993363535, 28.827928382153438, 25.324995064828034, 24.514405651630263, 19.64280771804687, 16.584278955320777, 9.666845232962638, 8.08644544559406, 797.2715432007158, 452.29320460959536, 405.2206327897458, 150.5081262844409, 119.4117645439763, 119.01526890449345, 99.73071519890055, 61.512537140459706, 54.69278985614644, 42.901404125395004, 36.443377109507615, 35.303356389240236, 25.626039528538882, 19.465753341025223, 18.666290646508372, 14.681214887109212, 10.566171096799723, 6.454819599880094, 0.062473569879872994, 0.06246814955792079, 0.06246732664831449, 0.06246694579758761, 0.062463728969126636, 0.06246981577985089, 0.062463946598113426, 0.06246398060264261, 0.06246397380173677, 0.062463946598113426, 0.062464028208983474, 0.06246408941713601, 0.06246493953036565, 0.06246713622295105, 0.062470754304856414, 0.06247669829655809, 0.06247010821880188, 0.06246549040373846, 0.062469557345429076, 0.062468244770602505, 0.06248220703028618, 0.06247669829655809, 0.06247094473021986, 0.06247758241431692, 0.062479384654363763, 0.06247166562623859, 0.06247143439544013, 519.895285030759, 263.2335392679698, 244.4426141640496, 227.05642401209457, 192.3992296599079, 189.5084312043175, 180.6036899401273, 160.39349039760435, 90.33742450969598, 84.15780234493569, 51.86921697390023, 39.93044357079976, 33.11636953301871, 31.559545152361224, 28.75988735984852, 10.317670843718961, 8.864598565215811, 1.1461430178790473, 0.06383506706522613, 0.06383658930599816, 0.06383316592609599, 0.06383246795543632, 0.06383219541451207, 0.06383484770301881, 0.06383490752907535, 0.06383579162524426, 0.06383561214707463, 0.06383476128760379, 0.06383066652640042, 0.06383066652640042, 0.0638322087091913, 0.06383406996428374, 0.06383492747109419, 0.06383668236875278, 0.06383749334418592, 0.06383908205835412, 0.06384448634546182, 0.06383738698675206, 0.06384281121587862, 0.06384366207534946, 0.06383686184692242, 0.06383742022345015, 0.06383722080326167, 0.06383625693901737, 359.0984734225429, 317.1030719519903, 293.6094908328133, 148.84150273722446, 148.59911920060753, 143.08200968789512, 111.22309222659855, 70.02574915425268, 10.246026220116518, 8.500563544369813, 6.149670941193478, 0.055786096454985376, 0.05578323997459852, 0.055788467683887955, 0.05578216941977752, 0.05578321496163541, 0.05578457566682845, 0.055785381084240505, 0.055782829762003557, 0.05578206936792509, 0.055781964313480044, 0.055781744199404695, 0.05578195931088742, 0.05578195931088742, 0.05578195931088742, 0.05578195931088742, 0.05578195931088742, 0.05578195931088742, 0.05578171418384897, 0.055782004334221015, 0.055781964313480044, 0.05578277973607734, 0.05578844767351746, 0.0557829798397822, 0.05578551615424129, 0.05578238453126024, 0.05578930311685574, 0.05579297001724728, 0.05578375023904591, 0.055783715220897555, 0.05578285477496666, 0.05578686185165646, 0.055786606719432766, 0.0557880124479594, 0.05579710716134523, 0.05578635658980169, 0.05579036866908411, 0.055784760762755445, 0.055787257056473555, 0.055784845806830005, 0.055793510297250395, 0.05579167434575831, 0.05578589635128051, 0.0557864516390615, 0.055787162007213745, 0.05578583131757644, 0.055785836320169056, 265.66118957846567, 193.49044875280515, 138.40372441712952, 133.50280474069882, 131.73613653636818, 111.81724883809723, 80.08988043583207, 58.76742337462323, 43.66632661408725, 34.03760700354322, 20.768466585511273, 13.6108590957827, 10.055817231509415, 3.022946329444229, 0.052503196697995066, 0.052503733483424186, 0.052506903872364945, 0.05250050438357712, 0.05250018986086474, 0.05250018986086474, 0.05250023179722639, 0.05250147311353124, 0.052500219216317895, 0.05249964468816329, 0.052499682430888775, 0.05250250474802783, 0.05249946855544436, 0.0525007937444725, 0.052501347304446284, 0.05249977049724824, 0.05250991070949527, 0.052505633200606944, 0.0525021608698623, 0.05250185054078609, 0.052503033146184624, 0.05250612385603825, 0.05250192602623706, 0.05250145633898658, 0.052507587435059844, 0.052502995403459145, 0.0525042828497618, 0.0525045470488402, 0.052502076997139005, 0.05250263475074895, 0.052501930219873226, 287.58311925465495, 118.87506543580287, 78.52255358767081, 58.50074840566056, 22.826836407507237, 13.062932404220135, 5.860615437570547, 5.805555624097717, 0.036209204902674076, 0.036207966606066344, 0.03620810419457832, 0.03620740901051783, 0.0362077300503791, 0.036207546599029805, 0.03620764798003862, 0.03620726176667169, 0.036208495235612335, 0.03620705176315342, 0.03620690693314082, 0.03620696486514586, 0.036206972106646494, 0.0362075128053602, 0.03620677658612948, 0.03620684175963515, 0.03620682486280035, 0.03620682486280035, 0.03620690210547373, 0.03620690210547373, 0.036207001072649014, 0.036206829690467436, 0.036206904519307276, 0.03620766487687343, 0.03620820074792005, 0.03620740901051783, 0.03620898765765518, 0.03620934249118605, 0.03620945835519613, 0.03620706624615468, 0.03620723762833626, 0.03620992663890353, 0.03620750556385957, 0.03620789660489359, 0.036208695583796434, 0.03620866420396037, 0.03620746694252287, 0.03620768418754178], \"Total\": [23469.0, 20574.0, 1506.0, 1401.0, 1308.0, 1397.0, 798.0, 4515.0, 877.0, 609.0, 677.0, 706.0, 774.0, 606.0, 651.0, 648.0, 645.0, 719.0, 521.0, 569.0, 850.0, 592.0, 576.0, 538.0, 479.0, 806.0, 802.0, 453.0, 611.0, 513.0, 23469.937678151462, 20574.99089523632, 4515.852339367104, 2411.04781094829, 2158.750283945253, 1928.0762010616972, 1887.0183669933529, 1798.9336992852784, 1535.9031527951176, 1441.4394837034781, 1416.4279698456985, 1365.2792497616165, 1277.703517560275, 1193.4821755416385, 1184.2571347675946, 1164.5292181363104, 1145.261939593496, 1044.6121079626394, 1041.2923328787379, 996.8803425134917, 975.4797330925574, 948.4794882541936, 941.3418197980341, 940.9760808740203, 909.9583211307711, 879.1105378946535, 867.849287322072, 853.3022920498858, 809.7528725250949, 765.4177136460439, 1397.3892296354124, 850.556470374936, 806.3910694243596, 802.9641666641193, 672.1265480472912, 612.9066605500586, 606.9387182393824, 604.0712024043399, 578.4948423205361, 495.87044574333555, 484.64946160879265, 482.10009163657725, 475.8915141249649, 463.51881318921437, 409.9714793004545, 399.29117652455324, 395.257403539419, 381.7134093431558, 364.3335650878469, 364.092854155927, 345.6763284637605, 331.175662614995, 306.27807933160375, 304.01211363340985, 289.94116431931377, 274.87596185201835, 239.53011552700377, 233.21453013532127, 230.872227605485, 224.80089356921377, 877.5218310970204, 774.5482076090523, 719.2062953186778, 611.537532840349, 449.4878068881946, 426.70955150925266, 410.152567767663, 378.438129829153, 366.90197336268193, 314.69627408518284, 220.83783342653203, 217.561366786844, 207.0177297608523, 202.91517584638797, 199.58933880755185, 199.1737895811047, 192.18846943106536, 185.41905205571715, 179.48610515297563, 170.96499074410178, 169.66540468711105, 147.674940920885, 141.86771514825188, 128.55836359121588, 127.83419422402069, 121.86464547440772, 120.68106885831776, 109.65738833254949, 85.65174836268565, 82.92193911226734, 1308.1105126386394, 706.2782133699351, 392.4792958393605, 268.2614472565797, 261.05742970760895, 207.09594470383468, 203.03201312734853, 195.62006935610643, 172.94787794145685, 166.77991599388048, 164.815631026637, 145.1604246897872, 130.70019569891818, 114.52800702002666, 112.05142734939278, 107.51281903014065, 103.5583370881806, 99.49848786867409, 92.8184504274683, 90.11568352663329, 83.34945766117204, 78.13399318477839, 74.20270396216907, 68.71744089673055, 57.56157849881514, 52.63421472195223, 49.46770987930585, 43.08819832333921, 38.3431227124558, 36.22967425733048, 592.2268743056511, 576.1286167061962, 482.8283727773328, 473.8247342080887, 350.23177056965994, 250.88187709856712, 205.60742230789612, 204.5027147569198, 191.2636285740693, 174.19908682119248, 160.2844489499763, 157.43741731837446, 152.66568053124755, 150.59524370219532, 149.95646326828296, 144.82899130713525, 125.13320035953662, 121.99318966411276, 111.69089784571698, 108.39717735895707, 101.78369062983134, 98.34421819451514, 79.90699346070437, 79.25669578809502, 79.02464577545403, 71.26926067763104, 69.22095834661657, 56.303099590067866, 48.10888876699283, 41.83713989336431, 513.9785364371401, 488.26337840931075, 443.9222604513812, 427.45171705555134, 309.529809834703, 276.00154986102984, 238.31148113548866, 235.0749604434544, 216.02873930446606, 209.97738066489796, 178.70586112496014, 164.96567960667616, 161.44760272687125, 159.50510063761897, 126.20529986412984, 125.76425527809742, 96.52095116701467, 93.95390134814222, 93.66620491626912, 92.77812028613643, 77.64932224427392, 76.00286151818817, 70.64119115429214, 64.31793092298581, 63.38275792570106, 55.12937810168986, 47.89269568420115, 44.25262012928352, 42.06330395827762, 41.54862253616049, 651.9348273687757, 648.0301766792664, 645.9137486986856, 476.9043427794136, 277.2699154609103, 250.4995011083276, 192.97030833391176, 190.14824421322163, 183.74911140148896, 181.5593449427355, 177.73205803738927, 133.2908620237381, 131.9077668854519, 130.31718670064993, 114.26918767230622, 105.42072108973231, 101.45865135799933, 100.61202567020217, 95.7806845837216, 93.10489488164013, 86.05179269629518, 77.74998862054551, 71.465973067708, 69.58188964434794, 52.73138094253667, 50.58936306936866, 43.75260161535409, 38.16192874388273, 38.13922796582583, 37.070937725701505, 1506.5096713384378, 236.63410612925213, 207.27052887579515, 205.30609129284903, 183.4367572659468, 169.21166954192748, 153.21178440303788, 143.48093666884915, 131.65664427604412, 116.85447547008467, 114.24805691818635, 110.67548421145976, 105.16862147093269, 102.75170314801112, 99.67439592441104, 96.7142337938773, 93.91526056012232, 92.12779093386096, 89.88203492122052, 84.51361635984944, 83.25411279566578, 76.27766988295232, 74.86498061713245, 64.52042835702241, 62.656190947423696, 61.96114872178353, 56.93395888134879, 53.50374164557737, 48.847997993827676, 48.5816891981407, 677.9691389906251, 404.64498720331045, 378.94939739989246, 304.8636646571488, 273.04059747003924, 242.49214811906464, 206.48871502956558, 162.19361474072963, 142.02790468501493, 132.87598418752813, 127.36001897745368, 111.87461665536428, 105.3423243790147, 101.36260495449906, 101.34433707190257, 99.12135977819224, 97.84155141536507, 95.37764476866207, 86.17451184430078, 85.83193708261305, 80.17810247667212, 70.84581839371387, 64.78192642180117, 57.59398227556667, 57.57095111280782, 57.56639568949283, 55.682765684718014, 55.23555474765747, 53.40912445536683, 49.67343484305825, 538.0194131660802, 422.0073041685667, 362.06732897180956, 294.08942245069, 258.24278551562486, 255.27398578797641, 247.24696271314556, 186.95930626723361, 165.27450730729825, 147.5874720597503, 128.02343873208778, 123.60838509169356, 114.91629899235261, 111.85171737857054, 108.22406595653288, 106.38427007178642, 89.72165004268349, 88.03022388164415, 75.70346843422868, 73.12176341468154, 72.00715759961598, 64.15248268180997, 58.71978482549237, 54.234804257517354, 54.009522566864156, 51.18715567735261, 50.4082967705477, 47.647856728647106, 43.87975606578995, 38.67863080881068, 1401.6479098499826, 569.2262957410124, 453.8131294308863, 388.6087900149302, 351.6559163334123, 234.08477536971247, 187.26358502097446, 181.72404017728547, 124.94516110828168, 124.52480820813881, 73.56518007557314, 43.409942776691345, 22.15011974898225, 18.791479655709406, 13.275015813742357, 4.198295067247417, 1.3423907441428302, 1.342572210856353, 1.3426354417343818, 1.342169164635259, 1.3419887104164476, 1.3421906262563155, 1.3421495117766646, 1.3420332679350424, 1.3420553377719269, 1.3420015099732, 1.342029593077873, 1.3420018940256095, 1.3425163561350664, 1.341933747018657, 1.3420029854042512, 1.3421827727465838, 1.3423817171158274, 1.342292458015426, 1.342179083364212, 1.342219629420324, 1.3422074748692636, 322.43572926153234, 284.04453975859076, 281.79977957194745, 236.82220494850813, 232.6319595388591, 221.43201270877697, 181.78550350288896, 181.33910514133152, 171.59780207501873, 153.2356360339661, 148.53552649126723, 130.8608931107579, 114.00367352827213, 112.52352147980959, 94.80717806170374, 88.43543037957359, 85.96630305191515, 83.5649669078112, 76.83269566477654, 69.93811748200865, 66.97233980872122, 65.37591632892352, 62.56996611200158, 59.448468639112455, 57.721505836798364, 51.10852484615849, 50.63986598545477, 43.142263992074994, 37.56842121283242, 33.94290189894988, 606.9293393037357, 423.5629581464133, 393.9794146306966, 325.66508913330375, 255.38729328195626, 236.12986647742179, 214.78556637892555, 202.76661263448992, 135.9591898207299, 133.19928504784775, 107.5765760830869, 89.75528356597823, 84.91322634952915, 64.68207824132703, 46.648404695308955, 30.52712644709884, 29.75990962938469, 28.391951271969308, 20.66742965632971, 1.3419315294669836, 1.3423817171158274, 1.3419670721320776, 1.341967709884793, 1.3419679687187247, 1.3419866638258937, 1.3426354417343818, 1.3419708182426293, 1.342014608325757, 1.3419445400439467, 1.3419446495836571, 1.3420428693230533, 1.3421476271379347, 1.3423907441428302, 1.3425163561350664, 1.342292458015426, 1.3420952084875812, 1.342572210856353, 1.3421214766116039, 1.342131545920318, 1.342219629420324, 1.342179083364212, 609.779444848677, 479.13008932393706, 322.5038312044941, 204.96133090426855, 161.56084392015927, 89.96285327924642, 89.71736815395849, 82.15371401572382, 81.06545708357181, 63.81814917073083, 60.64362632281328, 59.87543133690577, 54.70401265738648, 49.659931664850646, 46.956293444194195, 28.99490249362899, 27.437923002855324, 25.800953307138784, 21.62256556251512, 14.583671372583913, 14.023336244662854, 8.384479710084479, 5.98658298231995, 4.6805801722574465, 1.3419271484065862, 1.3419690714325343, 1.3419690714325343, 1.3419374212496686, 1.3419679687187247, 1.3419670721320776, 1.341967709884793, 1.3420952084875812, 1.342008086879427, 1.3420709454170991, 1.3420412450219599, 1.342131545920318, 1.3420324026597878, 1.3423817171158274, 1.3426354417343818, 1.342572210856353, 1.3425163561350664, 1.3421997371650307, 295.3426058167067, 225.48420638063166, 197.1415372188824, 172.0949135196839, 158.90926234922443, 143.14491091353466, 139.70671592586802, 127.84477825539204, 127.80500576562856, 102.30102732643394, 95.70341204527044, 91.89059800549416, 86.1993372460024, 80.78641904193908, 80.7844959610153, 79.0537087245147, 68.57764976545707, 58.283354365172706, 48.68852743956063, 46.39866743964892, 42.9824330248308, 34.7223394897937, 34.38832842327957, 30.109766881042145, 26.60683355447224, 25.796244141274467, 20.924646207691076, 17.86611744496498, 10.948683722606841, 9.368283972150131, 798.5509822532648, 453.5726436621444, 406.50007184229486, 151.78756533698996, 120.69120359652537, 120.29470795704252, 101.01015425144963, 62.791976193008786, 55.97222890869552, 44.180843177944084, 37.722816162056695, 36.582795441789315, 26.905478634731182, 20.745192393574296, 19.945729706195074, 15.960653956583425, 11.845610200625346, 7.73425876700145, 1.3420567940301418, 1.341972863672003, 1.341968462068436, 1.3419717199745536, 1.3419136567000918, 1.3420454395179937, 1.3419204492497854, 1.3419233921552354, 1.3419237452986656, 1.3419235694814942, 1.341927104368005, 1.341929154761588, 1.341949772871085, 1.3420124560554656, 1.3421166054104687, 1.342292458015426, 1.342108427858888, 1.3419689176254672, 1.3420996954371138, 1.3420672407504841, 1.342572210856353, 1.3423907441428302, 1.3421859933151503, 1.3425163561350664, 1.3426354417343818, 1.342224139183216, 1.3423817171158274, 521.1733583182069, 264.51161255541757, 245.7206874514974, 228.3344972995424, 193.6773029473557, 190.78650449176533, 181.88176322757514, 161.67156368505218, 91.61549779714382, 85.43587563238353, 53.147290261348076, 41.208516858247606, 34.39444283684869, 32.83761843980907, 30.037960692891925, 11.595744131166798, 10.142671852663648, 2.4242163053268855, 1.3419241684044738, 1.341961065789325, 1.3419361623618609, 1.3419296054464664, 1.341926880381586, 1.3419986862040494, 1.3420009963919806, 1.3420229960976364, 1.342019762695026, 1.3420060082303975, 1.3419200252973413, 1.341920072111529, 1.34195993268934, 1.3420146404361544, 1.3420427823944752, 1.3421116757379523, 1.3421476271379347, 1.342224139183216, 1.3425163561350664, 1.3421906262563155, 1.342572210856353, 1.3426354417343818, 1.3422074748692636, 1.342292458015426, 1.3423817171158274, 1.3423907441428302, 360.3845930350405, 318.3891915644879, 294.8956104453109, 150.12762234972206, 149.88523881310513, 144.36812930039272, 112.50921183909617, 71.3118687667503, 11.532145832614132, 9.786683257663089, 7.435790553691094, 1.3419716835686073, 1.341922780820835, 1.3420567940301418, 1.3419108077665214, 1.341936423478464, 1.3419699138376893, 1.3419917901513407, 1.341933837288196, 1.341915874029584, 1.3419173439763075, 1.3419121191162982, 1.3419173144450123, 1.3419173144450123, 1.3419173144450123, 1.3419173144450123, 1.3419173144450123, 1.3419173207852753, 1.3419115668545485, 1.3419186771061897, 1.3419177647413378, 1.3419380822786335, 1.3420832641724736, 1.341944387841978, 1.342011595440658, 1.3419287838037317, 1.3421166054104687, 1.342219629420324, 1.3419663821114856, 1.341972863672003, 1.3419467721056264, 1.3420875690981973, 1.3420928798004568, 1.3421495117766646, 1.342572210856353, 1.342096595886622, 1.342292458015426, 1.3420339740708773, 1.342179083364212, 1.3420427823944752, 1.3426354417343818, 1.3425163561350664, 1.3421354978732196, 1.3421997371650307, 1.3423907441428302, 1.3421827727465838, 1.3421859933151503, 266.9505919993354, 194.77985117367487, 139.69312683799924, 134.79220716156854, 133.0255389572379, 113.10665125896695, 81.37928285670179, 60.056825795492955, 44.955729034956974, 35.32700942441295, 22.057869006381, 14.900261516652428, 11.345219652379143, 4.3123487620993375, 1.3419399137394272, 1.3419814679571804, 1.3420735048640593, 1.341922780820835, 1.34191910466284, 1.34191910466284, 1.341920987021862, 1.34195618260833, 1.3419250363185398, 1.3419136646683696, 1.3419178475293332, 1.3419927029443535, 1.341915610160587, 1.3419527831687452, 1.3419679879610333, 1.3419286834482456, 1.3421997371650307, 1.3421229802784445, 1.3420146404361544, 1.342025766858133, 1.3420890243452062, 1.3423817171158274, 1.3420560297528321, 1.3420196716486634, 1.342572210856353, 1.3421645313109918, 1.342292458015426, 1.3425163561350664, 1.3421476271379347, 1.3426354417343818, 1.3421495117766646, 288.888813337722, 120.18075951886993, 79.82824767073788, 59.806442488727626, 24.132530506956435, 14.368626493714135, 7.166309520637611, 7.111249760013221, 1.341943751152969, 1.3419188857984303, 1.3419329916066034, 1.3419102867899522, 1.3419240477240628, 1.3419176173802332, 1.3419279377465305, 1.3419148212961225, 1.3419607905364535, 1.3419109618533582, 1.3419080157362222, 1.341910664545374, 1.341911567587578, 1.341932219714107, 1.341907232411484, 1.341910418506583, 1.3419102985196314, 1.3419102985196314, 1.3419143807608487, 1.3419143891323064, 1.3419218715904073, 1.34191667595535, 1.3419195109795028, 1.3419582160852737, 1.3419929518983085, 1.341949752496264, 1.3420782575990606, 1.3421354978732196, 1.342224139183216, 1.3419353453652962, 1.3419677217521313, 1.3425163561350664, 1.3420818161489572, 1.342219629420324, 1.342572210856353, 1.3426354417343818, 1.3420882612815583, 1.3423817171158274], \"Category\": [\"Default\", \"Default\", \"Default\", \"Default\", \"Default\", \"Default\", \"Default\", \"Default\", \"Default\", \"Default\", \"Default\", \"Default\", \"Default\", \"Default\", \"Default\", \"Default\", \"Default\", \"Default\", \"Default\", \"Default\", \"Default\", \"Default\", \"Default\", \"Default\", \"Default\", \"Default\", \"Default\", \"Default\", \"Default\", \"Default\", \"Topic1\", \"Topic1\", \"Topic1\", \"Topic1\", \"Topic1\", \"Topic1\", \"Topic1\", \"Topic1\", \"Topic1\", \"Topic1\", \"Topic1\", \"Topic1\", \"Topic1\", \"Topic1\", \"Topic1\", \"Topic1\", \"Topic1\", \"Topic1\", \"Topic1\", \"Topic1\", \"Topic1\", \"Topic1\", \"Topic1\", \"Topic1\", \"Topic1\", \"Topic1\", \"Topic1\", \"Topic1\", \"Topic1\", \"Topic1\", \"Topic2\", \"Topic2\", \"Topic2\", \"Topic2\", \"Topic2\", \"Topic2\", \"Topic2\", \"Topic2\", \"Topic2\", \"Topic2\", \"Topic2\", \"Topic2\", \"Topic2\", \"Topic2\", \"Topic2\", \"Topic2\", \"Topic2\", \"Topic2\", \"Topic2\", \"Topic2\", \"Topic2\", \"Topic2\", \"Topic2\", \"Topic2\", \"Topic2\", \"Topic2\", \"Topic2\", \"Topic2\", \"Topic2\", \"Topic2\", \"Topic3\", \"Topic3\", \"Topic3\", \"Topic3\", \"Topic3\", \"Topic3\", \"Topic3\", \"Topic3\", \"Topic3\", \"Topic3\", \"Topic3\", \"Topic3\", \"Topic3\", \"Topic3\", \"Topic3\", \"Topic3\", \"Topic3\", \"Topic3\", \"Topic3\", \"Topic3\", \"Topic3\", \"Topic3\", \"Topic3\", \"Topic3\", \"Topic3\", \"Topic3\", \"Topic3\", \"Topic3\", \"Topic3\", \"Topic3\", \"Topic4\", \"Topic4\", \"Topic4\", \"Topic4\", \"Topic4\", \"Topic4\", \"Topic4\", \"Topic4\", \"Topic4\", \"Topic4\", \"Topic4\", \"Topic4\", \"Topic4\", \"Topic4\", \"Topic4\", \"Topic4\", \"Topic4\", \"Topic4\", \"Topic4\", \"Topic4\", \"Topic4\", \"Topic4\", \"Topic4\", \"Topic4\", \"Topic4\", \"Topic4\", \"Topic4\", \"Topic4\", \"Topic4\", \"Topic4\", \"Topic5\", \"Topic5\", \"Topic5\", \"Topic5\", \"Topic5\", \"Topic5\", \"Topic5\", \"Topic5\", \"Topic5\", \"Topic5\", \"Topic5\", \"Topic5\", \"Topic5\", \"Topic5\", \"Topic5\", \"Topic5\", \"Topic5\", \"Topic5\", \"Topic5\", \"Topic5\", \"Topic5\", \"Topic5\", \"Topic5\", \"Topic5\", \"Topic5\", \"Topic5\", \"Topic5\", \"Topic5\", \"Topic5\", \"Topic5\", \"Topic6\", \"Topic6\", \"Topic6\", \"Topic6\", \"Topic6\", \"Topic6\", \"Topic6\", \"Topic6\", \"Topic6\", \"Topic6\", \"Topic6\", \"Topic6\", \"Topic6\", \"Topic6\", \"Topic6\", \"Topic6\", \"Topic6\", \"Topic6\", \"Topic6\", \"Topic6\", \"Topic6\", \"Topic6\", \"Topic6\", \"Topic6\", \"Topic6\", \"Topic6\", \"Topic6\", \"Topic6\", \"Topic6\", \"Topic6\", \"Topic7\", \"Topic7\", \"Topic7\", \"Topic7\", \"Topic7\", \"Topic7\", \"Topic7\", \"Topic7\", \"Topic7\", \"Topic7\", \"Topic7\", \"Topic7\", \"Topic7\", \"Topic7\", \"Topic7\", \"Topic7\", \"Topic7\", \"Topic7\", \"Topic7\", \"Topic7\", \"Topic7\", \"Topic7\", \"Topic7\", \"Topic7\", \"Topic7\", \"Topic7\", \"Topic7\", \"Topic7\", \"Topic7\", \"Topic7\", \"Topic8\", \"Topic8\", \"Topic8\", \"Topic8\", \"Topic8\", \"Topic8\", \"Topic8\", \"Topic8\", \"Topic8\", \"Topic8\", \"Topic8\", \"Topic8\", \"Topic8\", \"Topic8\", \"Topic8\", \"Topic8\", \"Topic8\", \"Topic8\", \"Topic8\", \"Topic8\", \"Topic8\", \"Topic8\", \"Topic8\", \"Topic8\", \"Topic8\", \"Topic8\", \"Topic8\", \"Topic8\", \"Topic8\", \"Topic8\", \"Topic9\", \"Topic9\", \"Topic9\", \"Topic9\", \"Topic9\", \"Topic9\", \"Topic9\", \"Topic9\", \"Topic9\", \"Topic9\", \"Topic9\", \"Topic9\", \"Topic9\", \"Topic9\", \"Topic9\", \"Topic9\", \"Topic9\", \"Topic9\", \"Topic9\", \"Topic9\", \"Topic9\", \"Topic9\", \"Topic9\", \"Topic9\", \"Topic9\", \"Topic9\", \"Topic9\", \"Topic9\", \"Topic9\", \"Topic9\", \"Topic10\", \"Topic10\", \"Topic10\", \"Topic10\", \"Topic10\", \"Topic10\", \"Topic10\", \"Topic10\", \"Topic10\", \"Topic10\", \"Topic10\", \"Topic10\", \"Topic10\", \"Topic10\", \"Topic10\", \"Topic10\", \"Topic10\", \"Topic10\", \"Topic10\", \"Topic10\", \"Topic10\", \"Topic10\", \"Topic10\", \"Topic10\", \"Topic10\", \"Topic10\", \"Topic10\", \"Topic10\", \"Topic10\", \"Topic10\", \"Topic11\", \"Topic11\", \"Topic11\", \"Topic11\", \"Topic11\", \"Topic11\", \"Topic11\", \"Topic11\", \"Topic11\", \"Topic11\", \"Topic11\", \"Topic11\", \"Topic11\", \"Topic11\", \"Topic11\", \"Topic11\", \"Topic11\", \"Topic11\", \"Topic11\", \"Topic11\", \"Topic11\", \"Topic11\", \"Topic11\", \"Topic11\", \"Topic11\", \"Topic11\", \"Topic11\", \"Topic11\", \"Topic11\", \"Topic11\", \"Topic11\", \"Topic11\", \"Topic11\", \"Topic11\", \"Topic11\", \"Topic11\", \"Topic11\", \"Topic12\", \"Topic12\", \"Topic12\", \"Topic12\", \"Topic12\", \"Topic12\", \"Topic12\", \"Topic12\", \"Topic12\", \"Topic12\", \"Topic12\", \"Topic12\", \"Topic12\", \"Topic12\", \"Topic12\", \"Topic12\", \"Topic12\", \"Topic12\", \"Topic12\", \"Topic12\", \"Topic12\", \"Topic12\", \"Topic12\", \"Topic12\", \"Topic12\", \"Topic12\", \"Topic12\", \"Topic12\", \"Topic12\", \"Topic12\", \"Topic13\", \"Topic13\", \"Topic13\", \"Topic13\", \"Topic13\", \"Topic13\", \"Topic13\", \"Topic13\", \"Topic13\", \"Topic13\", \"Topic13\", \"Topic13\", \"Topic13\", \"Topic13\", \"Topic13\", \"Topic13\", \"Topic13\", \"Topic13\", \"Topic13\", \"Topic13\", \"Topic13\", \"Topic13\", \"Topic13\", \"Topic13\", \"Topic13\", \"Topic13\", \"Topic13\", \"Topic13\", \"Topic13\", \"Topic13\", \"Topic13\", \"Topic13\", \"Topic13\", \"Topic13\", \"Topic13\", \"Topic13\", \"Topic13\", \"Topic13\", \"Topic13\", \"Topic13\", \"Topic13\", \"Topic14\", \"Topic14\", \"Topic14\", \"Topic14\", \"Topic14\", \"Topic14\", \"Topic14\", \"Topic14\", \"Topic14\", \"Topic14\", \"Topic14\", \"Topic14\", \"Topic14\", \"Topic14\", \"Topic14\", \"Topic14\", \"Topic14\", \"Topic14\", \"Topic14\", \"Topic14\", \"Topic14\", \"Topic14\", \"Topic14\", \"Topic14\", \"Topic14\", \"Topic14\", \"Topic14\", \"Topic14\", \"Topic14\", \"Topic14\", \"Topic14\", \"Topic14\", \"Topic14\", \"Topic14\", \"Topic14\", \"Topic14\", \"Topic14\", \"Topic14\", \"Topic14\", \"Topic14\", \"Topic14\", \"Topic14\", \"Topic15\", \"Topic15\", \"Topic15\", \"Topic15\", \"Topic15\", \"Topic15\", \"Topic15\", \"Topic15\", \"Topic15\", \"Topic15\", \"Topic15\", \"Topic15\", \"Topic15\", \"Topic15\", \"Topic15\", \"Topic15\", \"Topic15\", \"Topic15\", \"Topic15\", \"Topic15\", \"Topic15\", \"Topic15\", \"Topic15\", \"Topic15\", \"Topic15\", \"Topic15\", \"Topic15\", \"Topic15\", \"Topic15\", \"Topic15\", \"Topic16\", \"Topic16\", \"Topic16\", \"Topic16\", \"Topic16\", \"Topic16\", \"Topic16\", \"Topic16\", \"Topic16\", \"Topic16\", \"Topic16\", \"Topic16\", \"Topic16\", \"Topic16\", \"Topic16\", \"Topic16\", \"Topic16\", \"Topic16\", \"Topic16\", \"Topic16\", \"Topic16\", \"Topic16\", \"Topic16\", \"Topic16\", \"Topic16\", \"Topic16\", \"Topic16\", \"Topic16\", \"Topic16\", \"Topic16\", \"Topic16\", \"Topic16\", \"Topic16\", \"Topic16\", \"Topic16\", \"Topic16\", \"Topic16\", \"Topic16\", \"Topic16\", \"Topic16\", \"Topic16\", \"Topic16\", \"Topic16\", \"Topic16\", \"Topic16\", \"Topic17\", \"Topic17\", \"Topic17\", \"Topic17\", \"Topic17\", \"Topic17\", \"Topic17\", \"Topic17\", \"Topic17\", \"Topic17\", \"Topic17\", \"Topic17\", \"Topic17\", \"Topic17\", \"Topic17\", \"Topic17\", \"Topic17\", \"Topic17\", \"Topic17\", \"Topic17\", \"Topic17\", \"Topic17\", \"Topic17\", \"Topic17\", \"Topic17\", \"Topic17\", \"Topic17\", \"Topic17\", \"Topic17\", \"Topic17\", \"Topic17\", \"Topic17\", \"Topic17\", \"Topic17\", \"Topic17\", \"Topic17\", \"Topic17\", \"Topic17\", \"Topic17\", \"Topic17\", \"Topic17\", \"Topic17\", \"Topic17\", \"Topic17\", \"Topic18\", \"Topic18\", \"Topic18\", \"Topic18\", \"Topic18\", \"Topic18\", \"Topic18\", \"Topic18\", \"Topic18\", \"Topic18\", \"Topic18\", \"Topic18\", \"Topic18\", \"Topic18\", \"Topic18\", \"Topic18\", \"Topic18\", \"Topic18\", \"Topic18\", \"Topic18\", \"Topic18\", \"Topic18\", \"Topic18\", \"Topic18\", \"Topic18\", \"Topic18\", \"Topic18\", \"Topic18\", \"Topic18\", \"Topic18\", \"Topic18\", \"Topic18\", \"Topic18\", \"Topic18\", \"Topic18\", \"Topic18\", \"Topic18\", \"Topic18\", \"Topic18\", \"Topic18\", \"Topic18\", \"Topic18\", \"Topic18\", \"Topic18\", \"Topic18\", \"Topic18\", \"Topic18\", \"Topic18\", \"Topic18\", \"Topic18\", \"Topic18\", \"Topic18\", \"Topic18\", \"Topic18\", \"Topic18\", \"Topic18\", \"Topic18\", \"Topic19\", \"Topic19\", \"Topic19\", \"Topic19\", \"Topic19\", \"Topic19\", \"Topic19\", \"Topic19\", \"Topic19\", \"Topic19\", \"Topic19\", \"Topic19\", \"Topic19\", \"Topic19\", \"Topic19\", \"Topic19\", \"Topic19\", \"Topic19\", \"Topic19\", \"Topic19\", \"Topic19\", \"Topic19\", \"Topic19\", \"Topic19\", \"Topic19\", \"Topic19\", \"Topic19\", \"Topic19\", \"Topic19\", \"Topic19\", \"Topic19\", \"Topic19\", \"Topic19\", \"Topic19\", \"Topic19\", \"Topic19\", \"Topic19\", \"Topic19\", \"Topic19\", \"Topic19\", \"Topic19\", \"Topic19\", \"Topic19\", \"Topic19\", \"Topic19\", \"Topic20\", \"Topic20\", \"Topic20\", \"Topic20\", \"Topic20\", \"Topic20\", \"Topic20\", \"Topic20\", \"Topic20\", \"Topic20\", \"Topic20\", \"Topic20\", \"Topic20\", \"Topic20\", \"Topic20\", \"Topic20\", \"Topic20\", \"Topic20\", \"Topic20\", \"Topic20\", \"Topic20\", \"Topic20\", \"Topic20\", \"Topic20\", \"Topic20\", \"Topic20\", \"Topic20\", \"Topic20\", \"Topic20\", \"Topic20\", \"Topic20\", \"Topic20\", \"Topic20\", \"Topic20\", \"Topic20\", \"Topic20\", \"Topic20\", \"Topic20\", \"Topic20\", \"Topic20\", \"Topic20\", \"Topic20\", \"Topic20\", \"Topic20\", \"Topic20\", \"Topic20\"], \"logprob\": [30.0, 29.0, 28.0, 27.0, 26.0, 25.0, 24.0, 23.0, 22.0, 21.0, 20.0, 19.0, 18.0, 17.0, 16.0, 15.0, 14.0, 13.0, 12.0, 11.0, 10.0, 9.0, 8.0, 7.0, 6.0, 5.0, 4.0, 3.0, 2.0, 1.0, -1.6772, -1.8088, -3.3255, -3.9533, -4.0639, -4.177, -4.1985, -4.2463, -4.4045, -4.4681, -4.4856, -4.5224, -4.5888, -4.657, -4.6648, -4.6816, -4.6983, -4.7904, -4.7936, -4.8372, -4.8589, -4.887, -4.8946, -4.895, -4.9286, -4.9631, -4.976, -4.9929, -5.0454, -5.1018, -2.6783, -3.1754, -3.2288, -3.2331, -3.4112, -3.5036, -3.5134, -3.5182, -3.5615, -3.716, -3.739, -3.7443, -3.7573, -3.7837, -3.9068, -3.9333, -3.9435, -3.9784, -4.0252, -4.0259, -4.0779, -4.121, -4.1994, -4.2069, -4.2545, -4.3081, -4.4464, -4.4733, -4.4834, -4.5102, -2.5081, -2.6331, -2.7073, -2.8698, -3.1784, -3.2306, -3.2703, -3.351, -3.3821, -3.5361, -3.892, -3.9071, -3.957, -3.9772, -3.9938, -3.9959, -4.0318, -4.0679, -4.1007, -4.1497, -4.1573, -4.2973, -4.3377, -4.4372, -4.4429, -4.4912, -4.5011, -4.5979, -4.8482, -4.8811, -1.7277, -2.3449, -2.9339, -3.3159, -3.3432, -3.5761, -3.596, -3.6334, -3.7575, -3.7941, -3.806, -3.934, -4.04, -4.1734, -4.1955, -4.2374, -4.2753, -4.3158, -4.3862, -4.4162, -4.4954, -4.5611, -4.6136, -4.6917, -4.8725, -4.9641, -5.0278, -5.1698, -5.2902, -5.3489, -2.5092, -2.5368, -2.7139, -2.7328, -3.036, -3.371, -3.5712, -3.5766, -3.644, -3.7381, -3.822, -3.84, -3.8711, -3.8848, -3.8891, -3.9242, -4.0718, -4.0975, -4.1867, -4.217, -4.2807, -4.3155, -4.5261, -4.5344, -4.5374, -4.6425, -4.6722, -4.8831, -5.0443, -5.1881, -2.6234, -2.6749, -2.7703, -2.8082, -3.1322, -3.2473, -3.3949, -3.4086, -3.4936, -3.5222, -3.6845, -3.7651, -3.7868, -3.799, -4.0353, -4.0388, -4.3066, -4.3339, -4.337, -4.3466, -4.5274, -4.5491, -4.6236, -4.7192, -4.7341, -4.8767, -5.0209, -5.1022, -5.1545, -5.1672, -2.3716, -2.3776, -2.3808, -2.6849, -3.2292, -3.3312, -3.5936, -3.6085, -3.6429, -3.655, -3.6765, -3.9666, -3.9771, -3.9894, -4.1222, -4.2037, -4.2425, -4.251, -4.3009, -4.3296, -4.4095, -4.5125, -4.5983, -4.6255, -4.9088, -4.9513, -5.1005, -5.2416, -5.2422, -5.2716, -1.425, -3.2807, -3.4139, -3.4235, -3.5369, -3.6182, -3.7183, -3.7845, -3.8713, -3.9918, -4.0146, -4.0468, -4.0984, -4.122, -4.1528, -4.1833, -4.2131, -4.2326, -4.2576, -4.3201, -4.3353, -4.4243, -4.4433, -4.5948, -4.6247, -4.6361, -4.7226, -4.7862, -4.8796, -4.8852, -2.215, -2.7323, -2.7982, -3.0165, -3.1272, -3.2465, -3.4081, -3.6513, -3.7852, -3.8524, -3.8952, -4.0262, -4.0871, -4.1261, -4.1263, -4.1487, -4.1619, -4.1878, -4.2907, -4.2947, -4.3639, -4.4898, -4.581, -4.7011, -4.7015, -4.7016, -4.7356, -4.7438, -4.7783, -4.8526, -2.3958, -2.6393, -2.793, -3.0018, -3.1323, -3.144, -3.1761, -3.4572, -3.5814, -3.6955, -3.8391, -3.8745, -3.9482, -3.9756, -4.0089, -4.0263, -4.1989, -4.2182, -4.3714, -4.4067, -4.4224, -4.5401, -4.6305, -4.7117, -4.716, -4.771, -4.7867, -4.8446, -4.9293, -5.0595, -1.3582, -2.2606, -2.4878, -2.6434, -2.7437, -3.1525, -3.377, -3.4073, -3.7851, -3.7885, -4.322, -4.8619, -5.5643, -5.7398, -6.1181, -7.5314, -11.3716, -11.3715, -11.3715, -11.3719, -11.372, -11.3719, -11.372, -11.3721, -11.3721, -11.3721, -11.3721, -11.3721, -11.3718, -11.3722, -11.3721, -11.372, -11.3719, -11.372, -11.372, -11.372, -11.372, -2.8061, -2.9334, -2.9414, -3.1162, -3.1341, -3.1837, -3.3823, -3.3848, -3.4404, -3.5544, -3.5859, -3.7137, -3.8531, -3.8663, -4.0397, -4.1103, -4.139, -4.1678, -4.2531, -4.3488, -4.393, -4.4176, -4.4623, -4.5146, -4.5447, -4.6693, -4.6788, -4.8435, -4.9864, -5.0916, -2.0682, -2.4288, -2.5015, -2.6926, -2.9367, -3.0155, -3.1108, -3.1688, -3.5716, -3.5923, -3.8082, -3.9917, -4.048, -4.3249, -4.6596, -5.0985, -5.1251, -5.1743, -5.5096, -11.1609, -11.1605, -11.1609, -11.1609, -11.1609, -11.1609, -11.1604, -11.1609, -11.1609, -11.1609, -11.1609, -11.1608, -11.1608, -11.1606, -11.1606, -11.1607, -11.1608, -11.1606, -11.1608, -11.1608, -11.1608, -11.1608, -1.8523, -2.094, -2.4912, -2.9467, -3.1864, -3.7782, -3.781, -3.8704, -3.8839, -4.1275, -4.1796, -4.1926, -4.285, -4.3842, -4.4417, -4.9413, -4.9991, -5.0637, -5.2505, -5.6751, -5.7181, -6.3023, -6.7139, -7.0387, -11.0108, -11.0108, -11.0108, -11.0108, -11.0108, -11.0108, -11.0108, -11.0107, -11.0108, -11.0108, -11.0108, -11.0107, -11.0108, -11.0107, -11.0106, -11.0107, -11.0107, -11.0107, -2.5764, -2.8476, -2.9828, -3.1196, -3.2, -3.3053, -3.3299, -3.4195, -3.4198, -3.6449, -3.7124, -3.7536, -3.8185, -3.8844, -3.8844, -3.9064, -4.0511, -4.2171, -4.4014, -4.4509, -4.5297, -4.7504, -4.7605, -4.8988, -5.0284, -5.0609, -5.2825, -5.4517, -5.9915, -6.17, -1.5453, -2.1122, -2.2221, -3.2125, -3.444, -3.4473, -3.6241, -4.1073, -4.2248, -4.4676, -4.6308, -4.6626, -4.9829, -5.2579, -5.2998, -5.54, -5.8689, -6.3617, -10.9995, -10.9996, -10.9996, -10.9996, -10.9997, -10.9996, -10.9997, -10.9997, -10.9997, -10.9997, -10.9997, -10.9997, -10.9997, -10.9996, -10.9996, -10.9995, -10.9996, -10.9997, -10.9996, -10.9996, -10.9994, -10.9995, -10.9996, -10.9995, -10.9994, -10.9996, -10.9996, -1.9501, -2.6306, -2.7047, -2.7785, -2.9441, -2.9593, -3.0074, -3.1261, -3.7001, -3.771, -4.255, -4.5166, -4.7037, -4.7518, -4.8447, -5.8698, -6.0216, -8.0673, -10.9551, -10.9551, -10.9552, -10.9552, -10.9552, -10.9551, -10.9551, -10.9551, -10.9551, -10.9551, -10.9552, -10.9552, -10.9552, -10.9552, -10.9551, -10.9551, -10.9551, -10.9551, -10.955, -10.9551, -10.955, -10.955, -10.9551, -10.9551, -10.9551, -10.9551, -2.0358, -2.1602, -2.2372, -2.9165, -2.9182, -2.956, -3.2079, -3.6706, -5.5925, -5.7793, -6.103, -10.8057, -10.8057, -10.8056, -10.8057, -10.8057, -10.8057, -10.8057, -10.8057, -10.8057, -10.8057, -10.8057, -10.8057, -10.8057, -10.8057, -10.8057, -10.8057, -10.8057, -10.8057, -10.8057, -10.8057, -10.8057, -10.8056, -10.8057, -10.8057, -10.8057, -10.8056, -10.8055, -10.8057, -10.8057, -10.8057, -10.8056, -10.8057, -10.8056, -10.8055, -10.8057, -10.8056, -10.8057, -10.8056, -10.8057, -10.8055, -10.8056, -10.8057, -10.8057, -10.8056, -10.8057, -10.8057, -2.1608, -2.4778, -2.8129, -2.8489, -2.8622, -3.0262, -3.3599, -3.6695, -3.9665, -4.2156, -4.7096, -5.1322, -5.4349, -6.6368, -10.6899, -10.6899, -10.6899, -10.69, -10.69, -10.69, -10.69, -10.69, -10.69, -10.69, -10.69, -10.6899, -10.69, -10.69, -10.69, -10.69, -10.6898, -10.6899, -10.6899, -10.6899, -10.6899, -10.6899, -10.6899, -10.69, -10.6898, -10.6899, -10.6899, -10.6899, -10.6899, -10.6899, -10.6899, -1.5292, -2.4126, -2.8273, -3.1217, -4.0628, -4.6209, -5.4224, -5.4319, -10.5091, -10.5092, -10.5092, -10.5092, -10.5092, -10.5092, -10.5092, -10.5092, -10.5092, -10.5092, -10.5092, -10.5092, -10.5092, -10.5092, -10.5092, -10.5092, -10.5092, -10.5092, -10.5092, -10.5092, -10.5092, -10.5092, -10.5092, -10.5092, -10.5092, -10.5092, -10.5091, -10.5091, -10.5091, -10.5092, -10.5092, -10.5091, -10.5092, -10.5092, -10.5091, -10.5091, -10.5092, -10.5092], \"loglift\": [30.0, 29.0, 28.0, 27.0, 26.0, 25.0, 24.0, 23.0, 22.0, 21.0, 20.0, 19.0, 18.0, 17.0, 16.0, 15.0, 14.0, 13.0, 12.0, 11.0, 10.0, 9.0, 8.0, 7.0, 6.0, 5.0, 4.0, 3.0, 2.0, 1.0, 0.6508, 0.6508, 0.6506, 0.6504, 0.6503, 0.6502, 0.6502, 0.6502, 0.6501, 0.65, 0.65, 0.65, 0.6499, 0.6498, 0.6498, 0.6498, 0.6498, 0.6497, 0.6497, 0.6496, 0.6496, 0.6496, 0.6495, 0.6495, 0.6495, 0.6495, 0.6494, 0.6494, 0.6493, 0.6492, 2.4708, 2.4702, 2.4701, 2.4701, 2.4698, 2.4696, 2.4696, 2.4696, 2.4695, 2.4691, 2.4691, 2.469, 2.469, 2.4689, 2.4686, 2.4685, 2.4685, 2.4684, 2.4682, 2.4682, 2.468, 2.4679, 2.4675, 2.4675, 2.4673, 2.4671, 2.4664, 2.4662, 2.4662, 2.466, 3.1063, 3.1061, 3.106, 3.1057, 3.1049, 3.1048, 3.1047, 3.1044, 3.1043, 3.1037, 3.102, 3.1019, 3.1016, 3.1015, 3.1014, 3.1014, 3.1012, 3.1009, 3.1007, 3.1003, 3.1003, 3.0992, 3.0988, 3.0979, 3.0978, 3.0973, 3.0972, 3.0962, 3.0929, 3.0924, 3.4874, 3.4866, 3.4851, 3.4836, 3.4835, 3.4822, 3.4821, 3.4819, 3.481, 3.4807, 3.4806, 3.4796, 3.4786, 3.4772, 3.477, 3.4765, 3.476, 3.4755, 3.4746, 3.4742, 3.473, 3.472, 3.4711, 3.4697, 3.4661, 3.4639, 3.4624, 3.4585, 3.4547, 3.4527, 3.4984, 3.4983, 3.4979, 3.4978, 3.4969, 3.4954, 3.4943, 3.4943, 3.4938, 3.4932, 3.4925, 3.4924, 3.4921, 3.492, 3.492, 3.4917, 3.4903, 3.49, 3.4891, 3.4887, 3.4879, 3.4875, 3.4845, 3.4843, 3.4843, 3.4825, 3.482, 3.4777, 3.4737, 3.4696, 3.5259, 3.5257, 3.5255, 3.5254, 3.5242, 3.5237, 3.523, 3.5229, 3.5225, 3.5223, 3.5212, 3.5206, 3.5205, 3.5204, 3.5183, 3.5182, 3.5151, 3.5148, 3.5147, 3.5146, 3.5119, 3.5115, 3.5103, 3.5085, 3.5082, 3.5051, 3.5016, 3.4993, 3.4978, 3.4974, 3.54, 3.54, 3.54, 3.5393, 3.5373, 3.5368, 3.5353, 3.5352, 3.535, 3.5349, 3.5347, 3.5323, 3.5322, 3.5321, 3.5307, 3.5298, 3.5293, 3.5292, 3.5285, 3.5282, 3.527, 3.5254, 3.524, 3.5235, 3.5175, 3.5164, 3.5124, 3.508, 3.508, 3.507, 3.6489, 3.6443, 3.6435, 3.6435, 3.6427, 3.6421, 3.6413, 3.6408, 3.64, 3.6387, 3.6385, 3.6381, 3.6375, 3.6372, 3.6368, 3.6364, 3.636, 3.6357, 3.6354, 3.6345, 3.6342, 3.6328, 3.6325, 3.6297, 3.6291, 3.6289, 3.627, 3.6255, 3.6232, 3.623, 3.6574, 3.6561, 3.6559, 3.6551, 3.6546, 3.654, 3.6531, 3.6514, 3.6503, 3.6497, 3.6492, 3.6478, 3.6471, 3.6467, 3.6467, 3.6464, 3.6462, 3.6459, 3.6444, 3.6444, 3.6433, 3.6412, 3.6395, 3.637, 3.637, 3.637, 3.6362, 3.636, 3.6352, 3.6334, 3.7078, 3.7071, 3.7066, 3.7058, 3.7052, 3.7052, 3.705, 3.7033, 3.7024, 3.7015, 3.7002, 3.6998, 3.699, 3.6987, 3.6983, 3.6981, 3.6959, 3.6956, 3.6932, 3.6926, 3.6923, 3.6901, 3.6882, 3.6864, 3.6863, 3.685, 3.6846, 3.6831, 3.6807, 3.6767, 3.7879, 3.7865, 3.786, 3.7855, 3.7851, 3.7833, 3.7819, 3.7817, 3.7785, 3.7785, 3.7712, 3.7589, 3.7293, 3.7183, 3.6875, 3.4254, 0.7254, 0.7254, 0.7253, 0.7253, 0.7253, 0.7253, 0.7252, 0.7252, 0.7252, 0.7252, 0.7252, 0.7252, 0.7252, 0.7252, 0.7252, 0.7251, 0.7251, 0.7251, 0.7251, 0.7251, 0.7251, 3.8094, 3.8089, 3.8089, 3.808, 3.8079, 3.8076, 3.8064, 3.8063, 3.8059, 3.805, 3.8048, 3.8036, 3.8022, 3.802, 3.7999, 3.7989, 3.7985, 3.798, 3.7967, 3.795, 3.7942, 3.7937, 3.7928, 3.7918, 3.7911, 3.7882, 3.7879, 3.7835, 3.7789, 3.7752, 3.9148, 3.9139, 3.9137, 3.913, 3.9119, 3.9115, 3.911, 3.9106, 3.9075, 3.9073, 3.905, 3.9027, 3.9018, 3.8971, 3.8893, 3.8743, 3.8732, 3.871, 3.8533, 0.9365, 0.9365, 0.9365, 0.9365, 0.9365, 0.9365, 0.9365, 0.9364, 0.9364, 0.9364, 0.9364, 0.9364, 0.9364, 0.9364, 0.9364, 0.9364, 0.9364, 0.9363, 0.9364, 0.9364, 0.9364, 0.9364, 4.1261, 4.1255, 4.1242, 4.1219, 4.1202, 4.1138, 4.1138, 4.1125, 4.1123, 4.1079, 4.1069, 4.1066, 4.1045, 4.1021, 4.1006, 4.0831, 4.0805, 4.0774, 4.0672, 4.0365, 4.0326, 3.9628, 3.8881, 3.8093, 1.0865, 1.0865, 1.0865, 1.0865, 1.0865, 1.0865, 1.0865, 1.0865, 1.0865, 1.0865, 1.0865, 1.0865, 1.0865, 1.0863, 1.0862, 1.0862, 1.0862, 1.0864, 4.1269, 4.1256, 4.1247, 4.1238, 4.1232, 4.1223, 4.1221, 4.1212, 4.1212, 4.1187, 4.1178, 4.1172, 4.1163, 4.1153, 4.1153, 4.1149, 4.1124, 4.109, 4.1046, 4.1033, 4.101, 4.0937, 4.0933, 4.0878, 4.0819, 4.0803, 4.0681, 4.0568, 4.0068, 3.9841, 4.1633, 4.1621, 4.1618, 4.1565, 4.1543, 4.1542, 4.1522, 4.1443, 4.1418, 4.1355, 4.1304, 4.1293, 4.1162, 4.1013, 4.0986, 4.0814, 4.0506, 3.9841, 1.0977, 1.0977, 1.0977, 1.0977, 1.0977, 1.0977, 1.0977, 1.0977, 1.0977, 1.0977, 1.0977, 1.0977, 1.0977, 1.0976, 1.0976, 1.0976, 1.0976, 1.0977, 1.0976, 1.0976, 1.0975, 1.0975, 1.0976, 1.0974, 1.0974, 1.0976, 1.0974, 4.1853, 4.1829, 4.1826, 4.1822, 4.1812, 4.1811, 4.1807, 4.1798, 4.1737, 4.1727, 4.1634, 4.1563, 4.1499, 4.1481, 4.1443, 4.071, 4.0531, 3.4387, 1.1422, 1.1422, 1.1422, 1.1422, 1.1422, 1.1422, 1.1422, 1.1422, 1.1422, 1.1422, 1.1422, 1.1422, 1.1421, 1.1421, 1.1421, 1.1421, 1.1421, 1.1421, 1.1419, 1.1421, 1.1419, 1.1418, 1.142, 1.142, 1.1419, 1.1419, 4.4685, 4.468, 4.4677, 4.4634, 4.4634, 4.4631, 4.4605, 4.4538, 4.3538, 4.3311, 4.2821, 1.2917, 1.2916, 1.2916, 1.2916, 1.2916, 1.2916, 1.2916, 1.2916, 1.2916, 1.2916, 1.2916, 1.2916, 1.2916, 1.2916, 1.2916, 1.2916, 1.2916, 1.2916, 1.2916, 1.2916, 1.2916, 1.2916, 1.2916, 1.2916, 1.2916, 1.2916, 1.2916, 1.2916, 1.2916, 1.2916, 1.2916, 1.2916, 1.2916, 1.2914, 1.2916, 1.2915, 1.2916, 1.2915, 1.2916, 1.2913, 1.2914, 1.2915, 1.2915, 1.2914, 1.2915, 1.2915, 4.6436, 4.6418, 4.6391, 4.6388, 4.6387, 4.637, 4.6325, 4.6267, 4.6193, 4.6112, 4.5882, 4.5579, 4.5278, 4.2932, 1.4074, 1.4074, 1.4074, 1.4074, 1.4074, 1.4074, 1.4074, 1.4074, 1.4074, 1.4074, 1.4074, 1.4074, 1.4074, 1.4074, 1.4074, 1.4074, 1.4074, 1.4073, 1.4073, 1.4073, 1.4073, 1.4072, 1.4073, 1.4073, 1.407, 1.4073, 1.4072, 1.407, 1.4072, 1.4069, 1.4072, 5.1962, 5.1899, 5.1843, 5.1787, 5.1452, 5.1055, 4.9996, 4.9979, 1.5882, 1.5882, 1.5882, 1.5882, 1.5882, 1.5882, 1.5882, 1.5882, 1.5882, 1.5882, 1.5882, 1.5882, 1.5882, 1.5882, 1.5882, 1.5882, 1.5882, 1.5882, 1.5882, 1.5882, 1.5882, 1.5882, 1.5882, 1.5882, 1.5881, 1.5882, 1.5881, 1.5881, 1.588, 1.5882, 1.5881, 1.5878, 1.5881, 1.588, 1.5877, 1.5877, 1.5881, 1.5878]}, \"token.table\": {\"Topic\": [8, 6, 5, 18, 1, 3, 19, 7, 7, 7, 17, 10, 16, 13, 9, 17, 3, 5, 18, 15, 12, 7, 14, 14, 19, 4, 17, 9, 7, 4, 7, 8, 5, 13, 4, 11, 5, 4, 8, 4, 6, 3, 8, 15, 5, 6, 17, 6, 16, 11, 20, 10, 17, 4, 16, 19, 9, 6, 12, 4, 15, 14, 16, 6, 7, 1, 9, 8, 10, 2, 8, 19, 18, 17, 3, 1, 7, 8, 12, 15, 15, 15, 4, 13, 12, 17, 1, 19, 15, 13, 14, 16, 19, 14, 20, 5, 7, 6, 11, 6, 11, 2, 1, 10, 12, 3, 12, 11, 11, 4, 1, 10, 7, 17, 6, 10, 8, 1, 12, 4, 9, 3, 8, 7, 19, 7, 6, 18, 4, 10, 10, 16, 3, 9, 8, 15, 2, 10, 4, 10, 1, 16, 13, 12, 9, 12, 16, 9, 2, 2, 8, 7, 6, 3, 5, 2, 14, 12, 11, 2, 20, 10, 15, 10, 10, 7, 7, 7, 14, 6, 13, 10, 3, 6, 1, 15, 14, 3, 18, 18, 12, 7, 3, 2, 6, 8, 7, 8, 12, 3, 3, 20, 7, 1, 19, 8, 1, 10, 1, 12, 13, 14, 1, 10, 7, 17, 6, 12, 5, 19, 9, 2, 12, 9, 3, 2, 9, 12, 3, 5, 2, 10, 10, 12, 2, 9, 8, 14, 1, 4, 12, 4, 4, 9, 1, 2, 14, 12, 3, 9, 12, 5, 4, 13, 8, 16, 5, 1, 8, 14, 12, 10, 9, 3, 8, 10, 6, 18, 2, 3, 8, 8, 7, 7, 5, 7, 5, 15, 5, 16, 13, 8, 15, 2, 16, 14, 14, 12, 9, 4, 16, 4, 15, 18, 17, 14, 9, 8, 4, 8, 3, 3, 15, 1, 15, 4, 10, 1, 8, 15, 3, 15, 12, 12, 12, 1, 5, 13, 15, 17, 14, 11, 9, 13, 15, 8, 6, 1, 5, 5, 4, 17, 14, 12, 9, 6, 6, 17, 16, 10, 3, 17, 8, 19, 10, 2, 9, 20, 4, 2, 3, 10, 2, 18, 7, 15, 11, 1, 6, 16, 13, 17, 13, 7, 10, 2, 13, 10, 11, 17, 1, 2, 3, 4, 15, 20, 4, 4, 11, 2, 15, 4, 5, 11, 7, 1, 6, 20, 6, 6, 5, 13, 13, 14, 2, 1, 9, 6, 14, 3, 9, 6, 5, 3, 10, 1, 16, 5, 8, 15, 10, 6, 14, 15, 19, 9, 3, 5, 5, 15, 4, 9, 10, 13, 2, 3, 19, 11, 7, 2, 2, 14, 9, 13, 9, 19, 16, 20, 4, 4, 6, 9, 5, 2, 14, 6, 18, 1, 13, 5, 6, 6, 1, 8, 12, 7, 12, 9, 7, 5, 9, 11, 9, 2, 2, 16, 10, 8, 15, 18, 15, 17, 16, 11, 17, 2, 3, 5, 3, 14, 1, 14, 5, 5, 19, 15, 11, 15, 12, 7, 4, 2, 1, 5, 15, 12, 8, 1], \"Freq\": [0.9902544000339925, 0.9941461787143931, 0.9908699129923627, 0.9969629576921865, 0.9990630123750582, 0.9928233270000839, 0.93958082442739, 0.9904809803533299, 0.99031544995554, 0.9772657849271785, 0.9929973846754883, 0.9774981454686101, 0.9732725069734843, 0.9408630721228074, 0.966311271842879, 0.9784130055228337, 0.9878781625116893, 0.9982594108147032, 0.9905233287497547, 0.9877835799477697, 0.9906886798333221, 0.9685830583162451, 0.9728969650649837, 0.9903389714841387, 0.9824029028924758, 0.9866582239594943, 0.9823665445695566, 0.9903073714646295, 0.9981037229098334, 0.9859289427643364, 0.9839778032549881, 0.9926876958144114, 0.9964829844886532, 0.996309974429178, 0.9947080339723602, 0.9905128667863451, 0.9964848911815952, 0.9728711661573478, 0.9849363262239813, 0.9962308945846511, 0.9747213400228306, 0.9974857915372622, 0.9735670023603342, 0.9902890282141035, 0.9923004302066283, 0.9813605045310566, 0.974492107539881, 0.9842422691796426, 0.9286140446711048, 0.9787239007100201, 0.9047489685731013, 0.9813084337930527, 0.9913397030946284, 0.9953236815762091, 0.9963097870180038, 0.9878796696994065, 0.9886870016644086, 0.9795140424111688, 0.9971618871627141, 0.9981902126587818, 0.9558106646815747, 0.9853791226658575, 0.9567338848036404, 0.9963712165328994, 0.9794871180677954, 0.9999518398213947, 0.9727897557119642, 0.9890759024542528, 0.9949566105910378, 0.9966708114972342, 0.9826400665604591, 0.9964390713943883, 0.9940938892974714, 0.8623853619814023, 0.9886579204945656, 0.9999600476931673, 0.9949717221147164, 0.998997901329703, 0.9963226198275859, 0.9942781035178037, 0.8539450793530874, 0.993392156747267, 0.9689514751842465, 0.9892451813599682, 0.9812724522521781, 0.9654450345846033, 0.999811256147666, 0.9624364064200716, 0.9771433826404557, 0.9909963101722584, 0.995309696224028, 0.9826301555672999, 0.994122752507354, 0.9665740243854273, 0.8437335493035537, 0.9870338453858366, 0.9599429165204418, 0.9966037870533043, 0.7145757865863699, 0.986804950522183, 0.9480761385484114, 0.9955112676127774, 0.9990213884663169, 0.9860130904594775, 0.9749086309365853, 0.9901841822722651, 0.9896622274311088, 0.9958601296309628, 0.9039537254319159, 0.9952976945831014, 0.9984830714136252, 0.9892438562867476, 0.990254667297979, 0.9706731289940679, 0.9916131057221613, 0.9920058487553243, 0.9674426882999113, 0.998758108355522, 0.9789537737107817, 0.9917182865672272, 0.99618885440597, 0.9941067065924016, 0.9877584068560744, 0.9711111239314829, 0.8814285052562165, 0.9881327949186266, 0.9953453049952187, 0.9865858820408897, 0.9949169930817697, 0.9869880583707937, 0.9772322538188898, 0.9892371993828285, 0.9807155324408388, 0.9893214606249828, 0.9936383217632544, 0.9902654548714329, 0.9947922192728877, 0.995187530551363, 0.9838096407698562, 0.9654159317588702, 0.9989626932141423, 0.7757692340989752, 0.9193208984350392, 0.989162222442258, 0.9974946591645042, 0.9676170946833511, 0.9965327634192246, 0.9776311697546612, 0.9964373203482522, 0.9964500331766173, 0.9848612886277639, 0.9985853394504661, 0.9980961531119116, 0.9983227408790363, 0.9926518591271222, 0.9965965883809769, 0.9808580190291425, 0.9582516070093282, 0.9978456797407504, 0.9981266442067072, 0.8372510261692073, 0.9950093395375017, 0.9133518013084989, 0.9869880192734101, 0.9768075474864126, 0.9939613209789407, 0.9865233222174319, 0.9856231938974583, 0.8352009843956719, 0.9767672213976756, 0.9853446155242083, 0.9923852990501001, 0.994355623687038, 0.990454363867969, 0.9984567401140089, 0.9515217871127859, 0.9475935914425561, 0.9959936413347064, 0.8671413061495405, 0.9956368130536665, 0.9934213110556317, 0.9888930017079852, 0.9920369553952763, 0.9985207200240818, 0.9952379516365358, 0.9822752688344637, 0.987777213427647, 0.9920907885267483, 0.9735233182874959, 0.99172022173132, 0.9961998284110476, 0.9530703791452798, 0.9898924559837559, 0.9990013568243742, 0.952041196451254, 0.9718946451345675, 0.9987589144393629, 0.9970521257058997, 0.9989918514205463, 0.9756348872852298, 0.9499747724455745, 0.9976413726686804, 0.9984738209869831, 0.9846589666017777, 0.9774921044800889, 0.9951519975838817, 0.971693876529254, 0.9919363663313133, 0.9871105743433677, 0.978740662080826, 0.9959347396969385, 0.9968132467964226, 0.9837686052590847, 0.9879298677117136, 0.9934744046451388, 0.9984533558147263, 0.9863705425285973, 0.978310372887982, 0.998001147515619, 0.9942760679360306, 0.9981700563934928, 0.9799507530426808, 0.982035259842925, 0.9956789541093607, 0.9974159798650238, 0.9865571237527812, 0.9829520767603449, 0.9249596187915832, 0.999565412621213, 0.9920059155774237, 0.9955472389340333, 0.9750072052404928, 0.9649709617412177, 0.9736164097476563, 0.9986868357508816, 0.996998419102565, 0.9656869860539244, 0.9722209402791502, 0.9962061146247807, 0.9853064310543531, 0.9926154640484861, 0.9768556331790703, 0.9906165644270262, 0.9929450166480497, 0.9844878808477348, 0.9543295984410204, 0.9821906293742512, 0.9989468516210938, 0.9764349308313771, 0.6409461839328132, 0.9864604176995744, 0.9962956081806286, 0.9921821707058127, 0.9982657626931994, 0.9921675607039663, 0.9976130646114022, 0.9859717272272936, 0.9816037808370833, 0.9967232976397133, 0.993816125209886, 0.9874169337586135, 0.9820902663376203, 0.9985660723594892, 0.9671660231234335, 0.990944047173087, 0.9931181695597939, 0.992182080345869, 0.9860864678973152, 0.9799905085410228, 0.9859873499797125, 0.9975140461802688, 0.9888881164877141, 0.9954540733701662, 0.9990058391706834, 0.9663459384230267, 0.9796343924519785, 0.8914079087409305, 0.9965281762802314, 0.9867349561826155, 0.994519285505326, 0.9398111155597622, 0.9854865579172868, 0.9396082381925469, 0.806908150071767, 0.9831935282250531, 0.9688503169217443, 0.9971670462660086, 0.992839326358474, 0.9747448636591106, 0.9938701904091898, 0.9923467840009735, 0.9938836320346379, 0.9631426279244666, 0.9994119728229778, 0.9942095550486908, 0.999151055948324, 0.9707120039590855, 0.998898121425441, 0.9930943761405232, 0.9866709767129755, 0.9966899950000987, 0.9934176925095755, 0.99148610813858, 0.9935329463375274, 0.9701756596290861, 0.9989384613098901, 0.9841439795641369, 0.9912874579718188, 0.9779807737706399, 0.41250444434460576, 0.9953370129003506, 0.9988243054204968, 0.9697794162336328, 0.9509737369356664, 0.9698554394591574, 0.9832497520583298, 0.994496777372035, 0.9987367482850188, 0.9886493857242871, 0.9894070777869324, 0.9876194300151587, 0.9896607439988117, 0.9892972127478249, 0.9887595136976915, 0.9985705263928857, 0.991033606554566, 0.9954271588882689, 0.9941555160725813, 0.9899994781818172, 0.9948689033651932, 0.9971899047860748, 0.8873401536338217, 0.9832013436461573, 0.9830511795105085, 0.9886895216353772, 0.9951505835785448, 0.972323805151378, 0.9896246291894807, 0.9911822442230075, 0.9958270623402337, 0.9946098056288913, 0.9922885426914113, 0.9967663284328202, 0.9196169696156145, 0.9954199305799214, 0.9503967902191625, 0.9953658867049376, 0.9985745668897171, 0.9904496889954111, 0.9158748513648464, 0.9952150632434723, 0.9594573215369913, 0.9945678844701774, 0.9914113760256884, 0.9981052483588254, 0.9968187729612165, 0.9963425550786795, 0.9720622028362098, 0.9877549844879894, 0.9958775674733362, 0.9994603301106308, 0.9982266951311761, 0.9929048702267853, 0.9869916361652987, 0.9920017351212281, 0.9865157923600016, 0.966058920414343, 0.9849520846703664, 0.9982082285016609, 0.9976303734539969, 0.9937012970594845, 0.9837916423802797, 0.993393262569104, 0.9675202802283258, 0.9940139557097196, 0.9991892142605515, 0.9795091212656717, 0.9901751368222587, 0.9979224730689481, 0.9898471342386562, 0.9982843328519245, 0.9646632139710724, 0.9804436742190454, 0.9859566420149549, 0.9963397138895908, 0.9991169025248587, 0.9926408031374253, 0.9781840050677195, 0.9689564452288214, 0.9888818433078472, 0.9913988341027786, 0.9950576332679559, 0.9931165722905121, 0.9954898600236742, 0.9920263791961, 0.9984401473384344, 0.9873873026296477, 0.9936217269503631, 0.9901867495323887, 0.9596279177577086, 0.9566005627989215, 0.9822112477199371, 0.9270261921408092, 0.9872823630374457, 0.9922906611371252, 0.9855558944446203, 0.9848857577428047, 0.9918586466437402, 0.9848609163474299, 0.9936377345658234, 0.9950512519864989, 0.9938466126402906, 0.9808112084222208, 0.9948871119783361, 0.998244610561473, 0.9860701527238596, 0.6956765710525556, 0.9952910892252919, 0.9984102952048538, 0.9967539472309035, 0.9977181260579254, 0.9868568300000651, 0.9880611387814963, 0.9739946784787705, 0.9927626568363831, 0.9908622418440608, 0.9980577542477145, 0.996923337641728, 0.9959494364562108, 0.9849395915377939, 0.9627274638331826, 0.9934075055557681, 0.9979283711042503, 0.9987992407330892, 0.9871799921909039, 0.9787593478396968, 0.9924889082230632, 0.9990702440823123, 0.9984687850074907, 0.9890893583583993, 0.9974125063128293, 0.990563934121214, 0.9986667348591731, 0.9884461251441973, 0.9865864636369434, 0.970129758084075, 0.9854814717314894, 0.9727127816643222, 0.9918492482371098, 0.9863314974769904, 0.9872575017978045, 0.9932523719396222, 0.9927903322496223, 0.9982749444071193, 0.9936120119023978, 0.9525848529923007, 0.988296929892746, 0.9835957502394104, 0.97699469476057, 0.9961580126847823, 0.969133330537818, 0.9942852695924612, 0.9948113975262635, 0.9578809295377158, 0.9977486218367086, 0.9962220332236086, 0.9950838521800622, 0.9919864406161001, 0.997541650282185, 0.9987217593914297, 0.9981477909110691, 0.834875894753578, 0.9980410334195016, 0.976950438985121, 0.9902158604586995, 0.9822011356871511, 0.9924353924561946, 0.990308061707892, 0.991196129938539, 0.9695526724636792, 0.9703299408263117, 0.9983239048501148, 0.9994418264894797, 0.9823614353834463, 0.9653198088264904, 0.9929848007896503, 0.9896785126774916, 0.9994809707074533], \"Term\": [\"able\", \"accept\", \"accord\", \"act\", \"action\", \"activist\", \"adam\", \"adapt\", \"adaptation\", \"add\", \"affect\", \"african\", \"age\", \"ago\", \"ahead\", \"ai\", \"alone\", \"also\", \"america\", \"analysis\", \"animal\", \"apnews\", \"apple\", \"area\", \"argue\", \"atmosphere\", \"attend\", \"attention\", \"australia\", \"authority\", \"average\", \"avoid\", \"back\", \"bad\", \"battle\", \"bbc\", \"be\", \"bear\", \"begin\", \"biden\", \"biden_administration\", \"big\", \"billion\", \"biodiversity\", \"bit\", \"body\", \"bold\", \"border\", \"breakdown\", \"brexit\", \"brilliant\", \"budget\", \"build\", \"building\", \"call\", \"canada\", \"canadian\", \"carbon_dioxide\", \"care\", \"cause\", \"cbc\", \"center\", \"ceo\", \"challenge\", \"chance\", \"change\", \"cheap\", \"chief\", \"child\", \"china\", \"choice\", \"city\", \"claim\", \"class\", \"clear\", \"climate\", \"climateaction\", \"climatechange\", \"climatecrisis\", \"close\", \"closure\", \"cnn\", \"coastal\", \"cold\", \"collapse\", \"columbia\", \"com\", \"comment\", \"committee\", \"common\", \"company\", \"compare\", \"concern\", \"concerned\", \"conclusion\", \"condition\", \"consumption\", \"continue\", \"contract\", \"corporation\", \"corrupt\", \"cost\", \"country\", \"county\", \"couple\", \"court\", \"cover\", \"covid\", \"crap\", \"create\", \"crisis\", \"current\", \"cut\", \"cycle\", \"d\", \"danger\", \"david\", \"day\", \"dead\", \"death\", \"decade\", \"decision\", \"deep\", \"deeply\", \"defense\", \"deforestation\", \"democracy\", \"denial\", \"denier\", \"deny\", \"design\", \"destroy\", \"destructive\", \"devastating\", \"die\", \"director\", \"disaster\", \"discuss\", \"disease\", \"disinformation\", \"do\", \"dontlookup\", \"dramatic\", \"draw\", \"drive\", \"drug\", \"earth\", \"easy\", \"economic\", \"economy\", \"education\", \"emission\", \"end\", \"energy\", \"enough\", \"environment\", \"episode\", \"essential\", \"europe\", \"even\", \"evening\", \"event\", \"evil\", \"executive\", \"existential_threat\", \"experience\", \"extinction\", \"extreme_weather\", \"facility\", \"failure\", \"fear\", \"feature\", \"federal\", \"feel\", \"fight\", \"file\", \"fill\", \"fire\", \"firm\", \"first\", \"fix\", \"flooding\", \"focus\", \"food\", \"force\", \"former\", \"fossil_fuel\", \"free\", \"fuck\", \"fuel\", \"gas\", \"generate\", \"generation\", \"get\", \"gif_alt\", \"girl\", \"global\", \"global_warme\", \"go\", \"god\", \"gon\", \"good\", \"government\", \"governor\", \"govt\", \"group\", \"guess\", \"guy\", \"half\", \"hand\", \"happen\", \"hard\", \"hate\", \"have\", \"head\", \"health\", \"healthcare\", \"hell\", \"help\", \"here\", \"high\", \"highly\", \"historic\", \"hope\", \"hot\", \"housing\", \"http\", \"http_ow\", \"https\", \"huge\", \"human\", \"illegal\", \"image\", \"imagine\", \"impact\", \"increase\", \"indigenous\", \"individual\", \"industry\", \"inequality\", \"inflation\", \"influence\", \"instead\", \"intense\", \"interested\", \"investor\", \"island\", \"issue\", \"jame\", \"jeff\", \"job\", \"join\", \"kid\", \"know\", \"large\", \"last\", \"launch\", \"law\", \"lead\", \"leadership\", \"least\", \"lie\", \"life\", \"like\", \"likely\", \"line\", \"link\", \"listen\", \"literally\", \"little\", \"live\", \"london\", \"major\", \"make\", \"manager\", \"market\", \"mask\", \"medium\", \"meeting\", \"mention\", \"metaphor\", \"military\", \"mine\", \"mislead\", \"model\", \"moment\", \"money\", \"month\", \"mostly\", \"move\", \"movement\", \"natural\", \"natural_disaster\", \"need\", \"never\", \"new\", \"new_york\", \"news\", \"next\", \"night\", \"oil\", \"old\", \"open\", \"opinion\", \"option\", \"org\", \"own\", \"pacific\", \"paper\", \"parking\", \"party\", \"people\", \"period\", \"person\", \"perspective\", \"piece\", \"place\", \"plan\", \"plastic\", \"play\", \"pledge\", \"pm\", \"podcast\", \"police\", \"policy\", \"politic\", \"political\", \"politician\", \"position\", \"poverty\", \"power\", \"presentation\", \"president\", \"press\", \"prevent\", \"price\", \"product\", \"professor\", \"program\", \"project\", \"protect\", \"provide\", \"public\", \"publicly\", \"push\", \"quality\", \"question\", \"quote_tweet\", \"raise\", \"rapid\", \"re\", \"reading\", \"really\", \"recent\", \"record\", \"reduce\", \"region\", \"register\", \"release\", \"remember\", \"reply\", \"report\", \"require\", \"resilience\", \"response\", \"responsible\", \"restrict\", \"reveal\", \"right\", \"risk\", \"river\", \"road\", \"role\", \"root\", \"save\", \"say\", \"scam\", \"school\", \"science\", \"scientific\", \"scientist\", \"sea\", \"season\", \"second\", \"security\", \"see\", \"seem\", \"self\", \"sense\", \"seriously\", \"service\", \"set\", \"share\", \"shift\", \"short\", \"show\", \"side\", \"sign\", \"simply\", \"site\", \"situation\", \"slow\", \"smart\", \"snow\", \"social\", \"society\", \"source\", \"south\", \"southern\", \"space\", \"speak\", \"spend\", \"spread\", \"start\", \"state\", \"stay\", \"steve\", \"still\", \"stop\", \"study\", \"summer\", \"super\", \"sure\", \"surge\", \"sustainable\", \"system\", \"take\", \"talk\", \"tax\", \"team\", \"technical\", \"technology\", \"tell\", \"temperature\", \"texas\", \"th\", \"theguardian\", \"thing\", \"think\", \"thousand\", \"thread\", \"threaten\", \"time\", \"tool\", \"topic\", \"total\", \"trade\", \"tran\", \"trend\", \"true\", \"truth\", \"try\", \"turn\", \"uk\", \"ukraine\", \"unfortunately\", \"university\", \"update\", \"urgent\", \"use\", \"valley\", \"vote\", \"wake\", \"wale\", \"want\", \"warm\", \"washingtonpost\", \"waste\", \"watch\", \"water\", \"way\", \"wear\", \"weather\", \"weekend\", \"welcome\", \"west\", \"western\", \"whole\", \"wildlife\", \"winter\", \"wonder\", \"work\", \"world\", \"worsen\", \"worth\", \"write\", \"wrong\", \"year\"]}, \"R\": 30, \"lambda.step\": 0.01, \"plot.opts\": {\"xlab\": \"PC1\", \"ylab\": \"PC2\"}, \"topic.order\": [11, 7, 14, 4, 12, 2, 13, 16, 8, 3, 19, 10, 17, 20, 5, 1, 6, 18, 9, 15]};\n",
       "\n",
       "function LDAvis_load_lib(url, callback){\n",
       "  var s = document.createElement('script');\n",
       "  s.src = url;\n",
       "  s.async = true;\n",
       "  s.onreadystatechange = s.onload = callback;\n",
       "  s.onerror = function(){console.warn(\"failed to load library \" + url);};\n",
       "  document.getElementsByTagName(\"head\")[0].appendChild(s);\n",
       "}\n",
       "\n",
       "if(typeof(LDAvis) !== \"undefined\"){\n",
       "   // already loaded: just create the visualization\n",
       "   !function(LDAvis){\n",
       "       new LDAvis(\"#\" + \"ldavis_el760020290021073603509591309\", ldavis_el760020290021073603509591309_data);\n",
       "   }(LDAvis);\n",
       "}else if(typeof define === \"function\" && define.amd){\n",
       "   // require.js is available: use it to load d3/LDAvis\n",
       "   require.config({paths: {d3: \"https://d3js.org/d3.v5\"}});\n",
       "   require([\"d3\"], function(d3){\n",
       "      window.d3 = d3;\n",
       "      LDAvis_load_lib(\"https://cdn.jsdelivr.net/gh/bmabey/pyLDAvis/pyLDAvis/js/ldavis.v3.0.0.js\", function(){\n",
       "        new LDAvis(\"#\" + \"ldavis_el760020290021073603509591309\", ldavis_el760020290021073603509591309_data);\n",
       "      });\n",
       "    });\n",
       "}else{\n",
       "    // require.js not available: dynamically load d3 & LDAvis\n",
       "    LDAvis_load_lib(\"https://d3js.org/d3.v5.js\", function(){\n",
       "         LDAvis_load_lib(\"https://cdn.jsdelivr.net/gh/bmabey/pyLDAvis/pyLDAvis/js/ldavis.v3.0.0.js\", function(){\n",
       "                 new LDAvis(\"#\" + \"ldavis_el760020290021073603509591309\", ldavis_el760020290021073603509591309_data);\n",
       "            })\n",
       "         });\n",
       "}\n",
       "</script>"
      ],
      "text/plain": [
       "PreparedData(topic_coordinates=              x         y  topics  cluster       Freq\n",
       "topic                                                \n",
       "10    -0.484589 -0.189502       1        1  52.158978\n",
       "6     -0.183470  0.408221       2        1   8.444400\n",
       "13    -0.046069  0.024515       3        1   4.470205\n",
       "3     -0.001845 -0.000544       4        1   3.055061\n",
       "11    -0.007039  0.001825       5        1   3.018172\n",
       "1      0.012971 -0.006701       6        1   2.935345\n",
       "12    -0.000447 -0.001105       7        1   2.895759\n",
       "15     0.002094 -0.002301       8        1   2.599849\n",
       "7      0.027387 -0.011793       9        1   2.575176\n",
       "2      0.022893 -0.010245      10        1   2.447338\n",
       "18     0.021056 -0.009387      11        1   2.262304\n",
       "9      0.042219 -0.016308      12        1   2.207350\n",
       "16     0.049800 -0.018243      13        1   1.990175\n",
       "19     0.066501 -0.022189      14        1   1.611259\n",
       "4      0.060579 -0.020937      15        1   1.606244\n",
       "0      0.067321 -0.022336      16        1   1.553073\n",
       "5      0.071634 -0.023210      17        1   1.518004\n",
       "17     0.084070 -0.025392      18        1   1.142406\n",
       "8      0.092374 -0.026603      19        1   0.957670\n",
       "14     0.102560 -0.027764      20        1   0.551230, topic_info=               Term          Freq         Total Category  logprob  loglift\n",
       "1           climate  23469.000000  23469.000000  Default  30.0000  30.0000\n",
       "0            change  20574.000000  20574.000000  Default  29.0000  29.0000\n",
       "93    climatechange   1506.000000   1506.000000  Default  28.0000  28.0000\n",
       "103          people   1401.000000   1401.000000  Default  27.0000  27.0000\n",
       "721             new   1308.000000   1308.000000  Default  26.0000  26.0000\n",
       "...             ...           ...           ...      ...      ...      ...\n",
       "2891      emergency      0.036208      1.342220  Topic20 -10.5092   1.5880\n",
       "3566           heat      0.036209      1.342572  Topic20 -10.5091   1.5877\n",
       "2725       heatwave      0.036209      1.342635  Topic20 -10.5091   1.5877\n",
       "1719            man      0.036207      1.342088  Topic20 -10.5092   1.5881\n",
       "1347          flood      0.036208      1.342382  Topic20 -10.5092   1.5878\n",
       "\n",
       "[747 rows x 6 columns], token_table=      Topic      Freq    Term\n",
       "term                         \n",
       "773       8  0.990254    able\n",
       "1259      6  0.994146  accept\n",
       "1212      5  0.990870  accord\n",
       "166      18  0.996963     act\n",
       "908       1  0.999063  action\n",
       "...     ...       ...     ...\n",
       "1211      5  0.982361  worsen\n",
       "991      15  0.965320   worth\n",
       "298      12  0.992985   write\n",
       "1109      8  0.989679   wrong\n",
       "68        1  0.999481    year\n",
       "\n",
       "[488 rows x 3 columns], R=30, lambda_step=0.01, plot_opts={'xlab': 'PC1', 'ylab': 'PC2'}, topic_order=[11, 7, 14, 4, 12, 2, 13, 16, 8, 3, 19, 10, 17, 20, 5, 1, 6, 18, 9, 15])"
      ]
     },
     "execution_count": 37,
     "metadata": {},
     "output_type": "execute_result"
    }
   ],
   "source": [
    "# Visualize the topics\n",
    "vis = gensimvis.prepare(lda_model, corpus, id2word)\n",
    "vis"
   ]
  },
  {
   "cell_type": "markdown",
   "id": "ee0d7bec",
   "metadata": {},
   "source": [
    "In order to determine the optimal number of topics for LDA, we have to a function which calculates at what number of topics we can obtain the highest coherence. "
   ]
  },
  {
   "cell_type": "code",
   "execution_count": 38,
   "id": "6197c2bf",
   "metadata": {},
   "outputs": [],
   "source": [
    "def compute_coherence_values(dictionary, corpus, texts, limit, start=2, step=3):\n",
    "    \"\"\"\n",
    "    Compute c_v coherence for various number of topics\n",
    "\n",
    "    Parameters:\n",
    "    ----------\n",
    "    dictionary : Gensim dictionary\n",
    "    corpus : Gensim corpus\n",
    "    texts : List of input texts\n",
    "    limit : Max num of topics\n",
    "\n",
    "    Returns:\n",
    "    -------\n",
    "    model_list : List of LDA topic models\n",
    "    coherence_values : Coherence values corresponding to the LDA model with respective number of topics\n",
    "    \"\"\"\n",
    "    coherence_values = []\n",
    "    model_list = []\n",
    "    for num_topics in range(start, limit, step):\n",
    "        model = gensim.models.ldamodel.LdaModel(corpus=corpus,\n",
    "                                               num_topics=num_topics,\n",
    "                                               random_state=100,\n",
    "                                               update_every=1,\n",
    "                                               chunksize=100,\n",
    "                                               passes=10,\n",
    "                                               alpha='auto',\n",
    "                                               per_word_topics=True)\n",
    "        model_list.append(model)\n",
    "        coherencemodel = CoherenceModel(model=model, texts=texts, dictionary=dictionary, coherence='c_v')\n",
    "        coherence_values.append(coherencemodel.get_coherence())\n",
    "\n",
    "    return model_list, coherence_values"
   ]
  },
  {
   "cell_type": "code",
   "execution_count": 39,
   "id": "a50334bc",
   "metadata": {},
   "outputs": [],
   "source": [
    "# Can take a long time to run.\n",
    "model_list, coherence_values = compute_coherence_values(dictionary=id2word, corpus=corpus, texts=data_lemmatized, start=2, limit=40, step=6)"
   ]
  },
  {
   "cell_type": "code",
   "execution_count": 40,
   "id": "ee82ccab",
   "metadata": {},
   "outputs": [
    {
     "data": {
      "image/png": "[encoded data removed]",
      "text/plain": [
       "<Figure size 640x480 with 1 Axes>"
      ]
     },
     "metadata": {},
     "output_type": "display_data"
    }
   ],
   "source": [
    "# Show graph\n",
    "limit=40; start=2; step=6;\n",
    "x = range(start, limit, step)\n",
    "plt.plot(x, coherence_values)\n",
    "plt.xlabel(\"Num Topics\")\n",
    "plt.ylabel(\"Coherence score\")\n",
    "plt.legend((\"coherence_values\"), loc='best')\n",
    "plt.show()"
   ]
  },
  {
   "cell_type": "markdown",
   "id": "d85a5c7b",
   "metadata": {},
   "source": [
    "According to the results below, if I had selected 38 topics that would provide me with the highest level of coherence."
   ]
  },
  {
   "cell_type": "code",
   "execution_count": 41,
   "id": "beb1cb2d",
   "metadata": {
    "scrolled": true
   },
   "outputs": [
    {
     "name": "stdout",
     "output_type": "stream",
     "text": [
      "Num Topics = 2  has Coherence Value of 0.3615\n",
      "Num Topics = 8  has Coherence Value of 0.3453\n",
      "Num Topics = 14  has Coherence Value of 0.3075\n",
      "Num Topics = 20  has Coherence Value of 0.31\n",
      "Num Topics = 26  has Coherence Value of 0.3071\n",
      "Num Topics = 32  has Coherence Value of 0.3725\n",
      "Num Topics = 38  has Coherence Value of 0.3826\n"
     ]
    }
   ],
   "source": [
    "# Print the coherence scores\n",
    "for m, cv in zip(x, coherence_values):\n",
    "    print(\"Num Topics =\", m, \" has Coherence Value of\", round(cv, 4))"
   ]
  },
  {
   "cell_type": "markdown",
   "id": "19c291cc",
   "metadata": {},
   "source": [
    "# Conclusion:\n",
    "In any form of communication or expression, sentiment plays an important role. In spite of the fact that I chose topic modeling hoping to be able to extract multiple topics that are directly or indirectly related to climate change or environmental issues, the key words I derive from each topic serve mostly as auxiliary words. Those key words/tokens/topics do not evoke any sentiment of concern. By using lexicon-based sentiment analysers in the future, not only will we be able to get closer to subjectivity and factualness of data, but we will also be able to analyse polarity of topics."
   ]
  }
 ],
 "metadata": {
  "kernelspec": {
   "display_name": "Python 3 (ipykernel)",
   "language": "python",
   "name": "python3"
  },
  "language_info": {
   "codemirror_mode": {
    "name": "ipython",
    "version": 3
   },
   "file_extension": ".py",
   "mimetype": "text/x-python",
   "name": "python",
   "nbconvert_exporter": "python",
   "pygments_lexer": "ipython3",
   "version": "3.9.13"
  }
 },
 "nbformat": 4,
 "nbformat_minor": 5
}
